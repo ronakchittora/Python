{
  "cells": [
    {
      "metadata": {},
      "cell_type": "markdown",
      "source": "## House Prices: Kaggle Competition"
    },
    {
      "metadata": {
        "trusted": true
      },
      "cell_type": "code",
      "source": "# Import libraries\nimport numpy as np\nimport pandas as pd\nimport matplotlib.pyplot as plt\nimport seaborn as sns\n\nimport warnings\nwarnings.filterwarnings('ignore')\n\nfrom sklearn.preprocessing import StandardScaler\n\nfrom sklearn.model_selection import train_test_split\n\nfrom sklearn.linear_model import LinearRegression, Ridge, RidgeCV, Lasso, LassoCV, LassoLarsCV, ElasticNet, ElasticNetCV\nfrom sklearn.metrics import mean_squared_error, r2_score\nfrom math import sqrt",
      "execution_count": 1,
      "outputs": [
        {
          "output_type": "stream",
          "text": "/home/nbuser/anaconda3_420/lib/python3.5/site-packages/matplotlib/font_manager.py:281: UserWarning: Matplotlib is building the font cache using fc-list. This may take a moment.\n  'Matplotlib is building the font cache using fc-list. '\n",
          "name": "stderr"
        }
      ]
    },
    {
      "metadata": {
        "trusted": true
      },
      "cell_type": "code",
      "source": "import os\nPATH = os.getcwd() + '/data/'\nos.chdir(PATH)",
      "execution_count": 2,
      "outputs": []
    },
    {
      "metadata": {
        "trusted": true
      },
      "cell_type": "code",
      "source": "data_train = pd.read_csv('train.csv')",
      "execution_count": 3,
      "outputs": []
    },
    {
      "metadata": {
        "trusted": true
      },
      "cell_type": "code",
      "source": "data_test = pd.read_csv('test.csv')\ndata_test.shape",
      "execution_count": 4,
      "outputs": [
        {
          "output_type": "execute_result",
          "execution_count": 4,
          "data": {
            "text/plain": "(1459, 80)"
          },
          "metadata": {}
        }
      ]
    },
    {
      "metadata": {
        "trusted": true
      },
      "cell_type": "code",
      "source": "data_train_x = data_train.loc[:,data_train.columns != 'SalePrice']\ndata_train_y = data_train.loc[:,data_train.columns == 'SalePrice']",
      "execution_count": 5,
      "outputs": []
    },
    {
      "metadata": {
        "trusted": true
      },
      "cell_type": "code",
      "source": "data_all = pd.concat([data_train_x,data_test])",
      "execution_count": 6,
      "outputs": []
    },
    {
      "metadata": {
        "trusted": true
      },
      "cell_type": "code",
      "source": "data_all.shape",
      "execution_count": 7,
      "outputs": [
        {
          "output_type": "execute_result",
          "execution_count": 7,
          "data": {
            "text/plain": "(2919, 80)"
          },
          "metadata": {}
        }
      ]
    },
    {
      "metadata": {
        "trusted": true
      },
      "cell_type": "code",
      "source": "data_all.isnull().sum().sort_values(ascending=False)",
      "execution_count": 8,
      "outputs": [
        {
          "output_type": "execute_result",
          "execution_count": 8,
          "data": {
            "text/plain": "PoolQC           2909\nMiscFeature      2814\nAlley            2721\nFence            2348\nFireplaceQu      1420\nLotFrontage       486\nGarageCond        159\nGarageQual        159\nGarageYrBlt       159\nGarageFinish      159\nGarageType        157\nBsmtCond           82\nBsmtExposure       82\nBsmtQual           81\nBsmtFinType2       80\nBsmtFinType1       79\nMasVnrType         24\nMasVnrArea         23\nMSZoning            4\nBsmtHalfBath        2\nUtilities           2\nFunctional          2\nBsmtFullBath        2\nBsmtFinSF1          1\nExterior1st         1\nExterior2nd         1\nBsmtFinSF2          1\nBsmtUnfSF           1\nTotalBsmtSF         1\nSaleType            1\n                 ... \nYearBuilt           0\nOverallCond         0\nSaleCondition       0\nHeating             0\nExterQual           0\nExterCond           0\nYrSold              0\nMoSold              0\nMiscVal             0\nPoolArea            0\nScreenPorch         0\n3SsnPorch           0\nEnclosedPorch       0\nOpenPorchSF         0\nWoodDeckSF          0\nPavedDrive          0\nFireplaces          0\nTotRmsAbvGrd        0\nKitchenAbvGr        0\nBedroomAbvGr        0\nHalfBath            0\nFullBath            0\nGrLivArea           0\nLowQualFinSF        0\n2ndFlrSF            0\n1stFlrSF            0\nCentralAir          0\nHeatingQC           0\nFoundation          0\nId                  0\ndtype: int64"
          },
          "metadata": {}
        }
      ]
    },
    {
      "metadata": {
        "trusted": true
      },
      "cell_type": "code",
      "source": "data_all.drop(['PoolQC', 'Fence', 'MiscFeature', 'Alley', 'FireplaceQu', 'LotFrontage','GarageFinish','GarageYrBlt',\\\n                         'GarageQual','GarageCond','GarageType'],axis=1,inplace=True)\ndata_all.drop(['BsmtExposure','BsmtCond','BsmtQual','BsmtFinType2','BsmtFinType1'],axis=1,inplace=True)\ndata_all.shape",
      "execution_count": 9,
      "outputs": [
        {
          "output_type": "execute_result",
          "execution_count": 9,
          "data": {
            "text/plain": "(2919, 64)"
          },
          "metadata": {}
        }
      ]
    },
    {
      "metadata": {
        "trusted": true
      },
      "cell_type": "code",
      "source": "null_columns=data_all.columns[data_all.isnull().any()]\n\nfor col in null_columns:\n    if data_all[col].dtype == 'O':\n        data_all[col].fillna(value=data_all[col].mode(), inplace = True)\n    else:\n        data_all[col].fillna(value=data_all[col].median(), inplace = True)",
      "execution_count": 10,
      "outputs": []
    },
    {
      "metadata": {
        "trusted": true
      },
      "cell_type": "code",
      "source": "data_all['Exterior1st'].fillna('VinylSd', inplace = True)\ndata_all['Exterior2nd'].fillna('VinylSd', inplace = True)\ndata_all['Electrical'].fillna('SBrkr', inplace = True)\ndata_all['KitchenQual'].fillna('TA', inplace = True)\ndata_all['SaleType'].fillna('WD', inplace = True)\ndata_all['Utilities'].fillna('AllPub', inplace = True)\ndata_all['Functional'].fillna('Typ', inplace = True)\ndata_all['MSZoning'].fillna('RL',inplace=True)\ndata_all['MasVnrType'].fillna('None',inplace=True)",
      "execution_count": 11,
      "outputs": []
    },
    {
      "metadata": {
        "trusted": true
      },
      "cell_type": "code",
      "source": "data_all.isnull().sum().any()",
      "execution_count": 12,
      "outputs": [
        {
          "output_type": "execute_result",
          "execution_count": 12,
          "data": {
            "text/plain": "False"
          },
          "metadata": {}
        }
      ]
    },
    {
      "metadata": {
        "trusted": true
      },
      "cell_type": "code",
      "source": "print(data_train.shape)\nprint(data_test.shape)\nprint(data_all.shape)",
      "execution_count": 13,
      "outputs": [
        {
          "output_type": "stream",
          "text": "(1460, 81)\n(1459, 80)\n(2919, 64)\n",
          "name": "stdout"
        }
      ]
    },
    {
      "metadata": {
        "trusted": true
      },
      "cell_type": "code",
      "source": "train_x = data_all.iloc[0:1460]\ntest = data_all.iloc[1460:]",
      "execution_count": 14,
      "outputs": []
    },
    {
      "metadata": {
        "trusted": true
      },
      "cell_type": "code",
      "source": "train = pd.concat([train_x,data_train_y],axis=1)",
      "execution_count": 15,
      "outputs": []
    },
    {
      "metadata": {},
      "cell_type": "markdown",
      "source": "### Let's create new features"
    },
    {
      "metadata": {
        "trusted": true,
        "scrolled": true
      },
      "cell_type": "code",
      "source": "data_all.describe(include='all').transpose()",
      "execution_count": 16,
      "outputs": [
        {
          "output_type": "execute_result",
          "execution_count": 16,
          "data": {
            "text/html": "<div>\n<table border=\"1\" class=\"dataframe\">\n  <thead>\n    <tr style=\"text-align: right;\">\n      <th></th>\n      <th>count</th>\n      <th>unique</th>\n      <th>top</th>\n      <th>freq</th>\n      <th>mean</th>\n      <th>std</th>\n      <th>min</th>\n      <th>25%</th>\n      <th>50%</th>\n      <th>75%</th>\n      <th>max</th>\n    </tr>\n  </thead>\n  <tbody>\n    <tr>\n      <th>Id</th>\n      <td>2919</td>\n      <td>NaN</td>\n      <td>NaN</td>\n      <td>NaN</td>\n      <td>1460</td>\n      <td>842.787</td>\n      <td>1</td>\n      <td>730.5</td>\n      <td>1460</td>\n      <td>2189.5</td>\n      <td>2919</td>\n    </tr>\n    <tr>\n      <th>MSSubClass</th>\n      <td>2919</td>\n      <td>NaN</td>\n      <td>NaN</td>\n      <td>NaN</td>\n      <td>57.1377</td>\n      <td>42.5176</td>\n      <td>20</td>\n      <td>20</td>\n      <td>50</td>\n      <td>70</td>\n      <td>190</td>\n    </tr>\n    <tr>\n      <th>MSZoning</th>\n      <td>2919</td>\n      <td>5</td>\n      <td>RL</td>\n      <td>2269</td>\n      <td>NaN</td>\n      <td>NaN</td>\n      <td>NaN</td>\n      <td>NaN</td>\n      <td>NaN</td>\n      <td>NaN</td>\n      <td>NaN</td>\n    </tr>\n    <tr>\n      <th>LotArea</th>\n      <td>2919</td>\n      <td>NaN</td>\n      <td>NaN</td>\n      <td>NaN</td>\n      <td>10168.1</td>\n      <td>7887</td>\n      <td>1300</td>\n      <td>7478</td>\n      <td>9453</td>\n      <td>11570</td>\n      <td>215245</td>\n    </tr>\n    <tr>\n      <th>Street</th>\n      <td>2919</td>\n      <td>2</td>\n      <td>Pave</td>\n      <td>2907</td>\n      <td>NaN</td>\n      <td>NaN</td>\n      <td>NaN</td>\n      <td>NaN</td>\n      <td>NaN</td>\n      <td>NaN</td>\n      <td>NaN</td>\n    </tr>\n    <tr>\n      <th>LotShape</th>\n      <td>2919</td>\n      <td>4</td>\n      <td>Reg</td>\n      <td>1859</td>\n      <td>NaN</td>\n      <td>NaN</td>\n      <td>NaN</td>\n      <td>NaN</td>\n      <td>NaN</td>\n      <td>NaN</td>\n      <td>NaN</td>\n    </tr>\n    <tr>\n      <th>LandContour</th>\n      <td>2919</td>\n      <td>4</td>\n      <td>Lvl</td>\n      <td>2622</td>\n      <td>NaN</td>\n      <td>NaN</td>\n      <td>NaN</td>\n      <td>NaN</td>\n      <td>NaN</td>\n      <td>NaN</td>\n      <td>NaN</td>\n    </tr>\n    <tr>\n      <th>Utilities</th>\n      <td>2919</td>\n      <td>2</td>\n      <td>AllPub</td>\n      <td>2918</td>\n      <td>NaN</td>\n      <td>NaN</td>\n      <td>NaN</td>\n      <td>NaN</td>\n      <td>NaN</td>\n      <td>NaN</td>\n      <td>NaN</td>\n    </tr>\n    <tr>\n      <th>LotConfig</th>\n      <td>2919</td>\n      <td>5</td>\n      <td>Inside</td>\n      <td>2133</td>\n      <td>NaN</td>\n      <td>NaN</td>\n      <td>NaN</td>\n      <td>NaN</td>\n      <td>NaN</td>\n      <td>NaN</td>\n      <td>NaN</td>\n    </tr>\n    <tr>\n      <th>LandSlope</th>\n      <td>2919</td>\n      <td>3</td>\n      <td>Gtl</td>\n      <td>2778</td>\n      <td>NaN</td>\n      <td>NaN</td>\n      <td>NaN</td>\n      <td>NaN</td>\n      <td>NaN</td>\n      <td>NaN</td>\n      <td>NaN</td>\n    </tr>\n    <tr>\n      <th>Neighborhood</th>\n      <td>2919</td>\n      <td>25</td>\n      <td>NAmes</td>\n      <td>443</td>\n      <td>NaN</td>\n      <td>NaN</td>\n      <td>NaN</td>\n      <td>NaN</td>\n      <td>NaN</td>\n      <td>NaN</td>\n      <td>NaN</td>\n    </tr>\n    <tr>\n      <th>Condition1</th>\n      <td>2919</td>\n      <td>9</td>\n      <td>Norm</td>\n      <td>2511</td>\n      <td>NaN</td>\n      <td>NaN</td>\n      <td>NaN</td>\n      <td>NaN</td>\n      <td>NaN</td>\n      <td>NaN</td>\n      <td>NaN</td>\n    </tr>\n    <tr>\n      <th>Condition2</th>\n      <td>2919</td>\n      <td>8</td>\n      <td>Norm</td>\n      <td>2889</td>\n      <td>NaN</td>\n      <td>NaN</td>\n      <td>NaN</td>\n      <td>NaN</td>\n      <td>NaN</td>\n      <td>NaN</td>\n      <td>NaN</td>\n    </tr>\n    <tr>\n      <th>BldgType</th>\n      <td>2919</td>\n      <td>5</td>\n      <td>1Fam</td>\n      <td>2425</td>\n      <td>NaN</td>\n      <td>NaN</td>\n      <td>NaN</td>\n      <td>NaN</td>\n      <td>NaN</td>\n      <td>NaN</td>\n      <td>NaN</td>\n    </tr>\n    <tr>\n      <th>HouseStyle</th>\n      <td>2919</td>\n      <td>8</td>\n      <td>1Story</td>\n      <td>1471</td>\n      <td>NaN</td>\n      <td>NaN</td>\n      <td>NaN</td>\n      <td>NaN</td>\n      <td>NaN</td>\n      <td>NaN</td>\n      <td>NaN</td>\n    </tr>\n    <tr>\n      <th>OverallQual</th>\n      <td>2919</td>\n      <td>NaN</td>\n      <td>NaN</td>\n      <td>NaN</td>\n      <td>6.08907</td>\n      <td>1.40995</td>\n      <td>1</td>\n      <td>5</td>\n      <td>6</td>\n      <td>7</td>\n      <td>10</td>\n    </tr>\n    <tr>\n      <th>OverallCond</th>\n      <td>2919</td>\n      <td>NaN</td>\n      <td>NaN</td>\n      <td>NaN</td>\n      <td>5.56458</td>\n      <td>1.11313</td>\n      <td>1</td>\n      <td>5</td>\n      <td>5</td>\n      <td>6</td>\n      <td>9</td>\n    </tr>\n    <tr>\n      <th>YearBuilt</th>\n      <td>2919</td>\n      <td>NaN</td>\n      <td>NaN</td>\n      <td>NaN</td>\n      <td>1971.31</td>\n      <td>30.2914</td>\n      <td>1872</td>\n      <td>1953.5</td>\n      <td>1973</td>\n      <td>2001</td>\n      <td>2010</td>\n    </tr>\n    <tr>\n      <th>YearRemodAdd</th>\n      <td>2919</td>\n      <td>NaN</td>\n      <td>NaN</td>\n      <td>NaN</td>\n      <td>1984.26</td>\n      <td>20.8943</td>\n      <td>1950</td>\n      <td>1965</td>\n      <td>1993</td>\n      <td>2004</td>\n      <td>2010</td>\n    </tr>\n    <tr>\n      <th>RoofStyle</th>\n      <td>2919</td>\n      <td>6</td>\n      <td>Gable</td>\n      <td>2310</td>\n      <td>NaN</td>\n      <td>NaN</td>\n      <td>NaN</td>\n      <td>NaN</td>\n      <td>NaN</td>\n      <td>NaN</td>\n      <td>NaN</td>\n    </tr>\n    <tr>\n      <th>RoofMatl</th>\n      <td>2919</td>\n      <td>8</td>\n      <td>CompShg</td>\n      <td>2876</td>\n      <td>NaN</td>\n      <td>NaN</td>\n      <td>NaN</td>\n      <td>NaN</td>\n      <td>NaN</td>\n      <td>NaN</td>\n      <td>NaN</td>\n    </tr>\n    <tr>\n      <th>Exterior1st</th>\n      <td>2919</td>\n      <td>15</td>\n      <td>VinylSd</td>\n      <td>1026</td>\n      <td>NaN</td>\n      <td>NaN</td>\n      <td>NaN</td>\n      <td>NaN</td>\n      <td>NaN</td>\n      <td>NaN</td>\n      <td>NaN</td>\n    </tr>\n    <tr>\n      <th>Exterior2nd</th>\n      <td>2919</td>\n      <td>16</td>\n      <td>VinylSd</td>\n      <td>1015</td>\n      <td>NaN</td>\n      <td>NaN</td>\n      <td>NaN</td>\n      <td>NaN</td>\n      <td>NaN</td>\n      <td>NaN</td>\n      <td>NaN</td>\n    </tr>\n    <tr>\n      <th>MasVnrType</th>\n      <td>2919</td>\n      <td>4</td>\n      <td>None</td>\n      <td>1766</td>\n      <td>NaN</td>\n      <td>NaN</td>\n      <td>NaN</td>\n      <td>NaN</td>\n      <td>NaN</td>\n      <td>NaN</td>\n      <td>NaN</td>\n    </tr>\n    <tr>\n      <th>MasVnrArea</th>\n      <td>2919</td>\n      <td>NaN</td>\n      <td>NaN</td>\n      <td>NaN</td>\n      <td>101.396</td>\n      <td>178.855</td>\n      <td>0</td>\n      <td>0</td>\n      <td>0</td>\n      <td>163.5</td>\n      <td>1600</td>\n    </tr>\n    <tr>\n      <th>ExterQual</th>\n      <td>2919</td>\n      <td>4</td>\n      <td>TA</td>\n      <td>1798</td>\n      <td>NaN</td>\n      <td>NaN</td>\n      <td>NaN</td>\n      <td>NaN</td>\n      <td>NaN</td>\n      <td>NaN</td>\n      <td>NaN</td>\n    </tr>\n    <tr>\n      <th>ExterCond</th>\n      <td>2919</td>\n      <td>5</td>\n      <td>TA</td>\n      <td>2538</td>\n      <td>NaN</td>\n      <td>NaN</td>\n      <td>NaN</td>\n      <td>NaN</td>\n      <td>NaN</td>\n      <td>NaN</td>\n      <td>NaN</td>\n    </tr>\n    <tr>\n      <th>Foundation</th>\n      <td>2919</td>\n      <td>6</td>\n      <td>PConc</td>\n      <td>1308</td>\n      <td>NaN</td>\n      <td>NaN</td>\n      <td>NaN</td>\n      <td>NaN</td>\n      <td>NaN</td>\n      <td>NaN</td>\n      <td>NaN</td>\n    </tr>\n    <tr>\n      <th>BsmtFinSF1</th>\n      <td>2919</td>\n      <td>NaN</td>\n      <td>NaN</td>\n      <td>NaN</td>\n      <td>441.398</td>\n      <td>455.535</td>\n      <td>0</td>\n      <td>0</td>\n      <td>368.5</td>\n      <td>733</td>\n      <td>5644</td>\n    </tr>\n    <tr>\n      <th>BsmtFinSF2</th>\n      <td>2919</td>\n      <td>NaN</td>\n      <td>NaN</td>\n      <td>NaN</td>\n      <td>49.5653</td>\n      <td>169.179</td>\n      <td>0</td>\n      <td>0</td>\n      <td>0</td>\n      <td>0</td>\n      <td>1526</td>\n    </tr>\n    <tr>\n      <th>...</th>\n      <td>...</td>\n      <td>...</td>\n      <td>...</td>\n      <td>...</td>\n      <td>...</td>\n      <td>...</td>\n      <td>...</td>\n      <td>...</td>\n      <td>...</td>\n      <td>...</td>\n      <td>...</td>\n    </tr>\n    <tr>\n      <th>CentralAir</th>\n      <td>2919</td>\n      <td>2</td>\n      <td>Y</td>\n      <td>2723</td>\n      <td>NaN</td>\n      <td>NaN</td>\n      <td>NaN</td>\n      <td>NaN</td>\n      <td>NaN</td>\n      <td>NaN</td>\n      <td>NaN</td>\n    </tr>\n    <tr>\n      <th>Electrical</th>\n      <td>2919</td>\n      <td>5</td>\n      <td>SBrkr</td>\n      <td>2672</td>\n      <td>NaN</td>\n      <td>NaN</td>\n      <td>NaN</td>\n      <td>NaN</td>\n      <td>NaN</td>\n      <td>NaN</td>\n      <td>NaN</td>\n    </tr>\n    <tr>\n      <th>1stFlrSF</th>\n      <td>2919</td>\n      <td>NaN</td>\n      <td>NaN</td>\n      <td>NaN</td>\n      <td>1159.58</td>\n      <td>392.362</td>\n      <td>334</td>\n      <td>876</td>\n      <td>1082</td>\n      <td>1387.5</td>\n      <td>5095</td>\n    </tr>\n    <tr>\n      <th>2ndFlrSF</th>\n      <td>2919</td>\n      <td>NaN</td>\n      <td>NaN</td>\n      <td>NaN</td>\n      <td>336.484</td>\n      <td>428.701</td>\n      <td>0</td>\n      <td>0</td>\n      <td>0</td>\n      <td>704</td>\n      <td>2065</td>\n    </tr>\n    <tr>\n      <th>LowQualFinSF</th>\n      <td>2919</td>\n      <td>NaN</td>\n      <td>NaN</td>\n      <td>NaN</td>\n      <td>4.69442</td>\n      <td>46.3968</td>\n      <td>0</td>\n      <td>0</td>\n      <td>0</td>\n      <td>0</td>\n      <td>1064</td>\n    </tr>\n    <tr>\n      <th>GrLivArea</th>\n      <td>2919</td>\n      <td>NaN</td>\n      <td>NaN</td>\n      <td>NaN</td>\n      <td>1500.76</td>\n      <td>506.051</td>\n      <td>334</td>\n      <td>1126</td>\n      <td>1444</td>\n      <td>1743.5</td>\n      <td>5642</td>\n    </tr>\n    <tr>\n      <th>BsmtFullBath</th>\n      <td>2919</td>\n      <td>NaN</td>\n      <td>NaN</td>\n      <td>NaN</td>\n      <td>0.429599</td>\n      <td>0.524676</td>\n      <td>0</td>\n      <td>0</td>\n      <td>0</td>\n      <td>1</td>\n      <td>3</td>\n    </tr>\n    <tr>\n      <th>BsmtHalfBath</th>\n      <td>2919</td>\n      <td>NaN</td>\n      <td>NaN</td>\n      <td>NaN</td>\n      <td>0.0613224</td>\n      <td>0.245608</td>\n      <td>0</td>\n      <td>0</td>\n      <td>0</td>\n      <td>0</td>\n      <td>2</td>\n    </tr>\n    <tr>\n      <th>FullBath</th>\n      <td>2919</td>\n      <td>NaN</td>\n      <td>NaN</td>\n      <td>NaN</td>\n      <td>1.568</td>\n      <td>0.552969</td>\n      <td>0</td>\n      <td>1</td>\n      <td>2</td>\n      <td>2</td>\n      <td>4</td>\n    </tr>\n    <tr>\n      <th>HalfBath</th>\n      <td>2919</td>\n      <td>NaN</td>\n      <td>NaN</td>\n      <td>NaN</td>\n      <td>0.380267</td>\n      <td>0.502872</td>\n      <td>0</td>\n      <td>0</td>\n      <td>0</td>\n      <td>1</td>\n      <td>2</td>\n    </tr>\n    <tr>\n      <th>BedroomAbvGr</th>\n      <td>2919</td>\n      <td>NaN</td>\n      <td>NaN</td>\n      <td>NaN</td>\n      <td>2.86023</td>\n      <td>0.822693</td>\n      <td>0</td>\n      <td>2</td>\n      <td>3</td>\n      <td>3</td>\n      <td>8</td>\n    </tr>\n    <tr>\n      <th>KitchenAbvGr</th>\n      <td>2919</td>\n      <td>NaN</td>\n      <td>NaN</td>\n      <td>NaN</td>\n      <td>1.04454</td>\n      <td>0.214462</td>\n      <td>0</td>\n      <td>1</td>\n      <td>1</td>\n      <td>1</td>\n      <td>3</td>\n    </tr>\n    <tr>\n      <th>KitchenQual</th>\n      <td>2919</td>\n      <td>4</td>\n      <td>TA</td>\n      <td>1493</td>\n      <td>NaN</td>\n      <td>NaN</td>\n      <td>NaN</td>\n      <td>NaN</td>\n      <td>NaN</td>\n      <td>NaN</td>\n      <td>NaN</td>\n    </tr>\n    <tr>\n      <th>TotRmsAbvGrd</th>\n      <td>2919</td>\n      <td>NaN</td>\n      <td>NaN</td>\n      <td>NaN</td>\n      <td>6.45152</td>\n      <td>1.56938</td>\n      <td>2</td>\n      <td>5</td>\n      <td>6</td>\n      <td>7</td>\n      <td>15</td>\n    </tr>\n    <tr>\n      <th>Functional</th>\n      <td>2919</td>\n      <td>7</td>\n      <td>Typ</td>\n      <td>2719</td>\n      <td>NaN</td>\n      <td>NaN</td>\n      <td>NaN</td>\n      <td>NaN</td>\n      <td>NaN</td>\n      <td>NaN</td>\n      <td>NaN</td>\n    </tr>\n    <tr>\n      <th>Fireplaces</th>\n      <td>2919</td>\n      <td>NaN</td>\n      <td>NaN</td>\n      <td>NaN</td>\n      <td>0.597122</td>\n      <td>0.646129</td>\n      <td>0</td>\n      <td>0</td>\n      <td>1</td>\n      <td>1</td>\n      <td>4</td>\n    </tr>\n    <tr>\n      <th>GarageCars</th>\n      <td>2919</td>\n      <td>NaN</td>\n      <td>NaN</td>\n      <td>NaN</td>\n      <td>1.7667</td>\n      <td>0.761506</td>\n      <td>0</td>\n      <td>1</td>\n      <td>2</td>\n      <td>2</td>\n      <td>5</td>\n    </tr>\n    <tr>\n      <th>GarageArea</th>\n      <td>2919</td>\n      <td>NaN</td>\n      <td>NaN</td>\n      <td>NaN</td>\n      <td>472.877</td>\n      <td>215.358</td>\n      <td>0</td>\n      <td>320</td>\n      <td>480</td>\n      <td>576</td>\n      <td>1488</td>\n    </tr>\n    <tr>\n      <th>PavedDrive</th>\n      <td>2919</td>\n      <td>3</td>\n      <td>Y</td>\n      <td>2641</td>\n      <td>NaN</td>\n      <td>NaN</td>\n      <td>NaN</td>\n      <td>NaN</td>\n      <td>NaN</td>\n      <td>NaN</td>\n      <td>NaN</td>\n    </tr>\n    <tr>\n      <th>WoodDeckSF</th>\n      <td>2919</td>\n      <td>NaN</td>\n      <td>NaN</td>\n      <td>NaN</td>\n      <td>93.7098</td>\n      <td>126.527</td>\n      <td>0</td>\n      <td>0</td>\n      <td>0</td>\n      <td>168</td>\n      <td>1424</td>\n    </tr>\n    <tr>\n      <th>OpenPorchSF</th>\n      <td>2919</td>\n      <td>NaN</td>\n      <td>NaN</td>\n      <td>NaN</td>\n      <td>47.4868</td>\n      <td>67.5755</td>\n      <td>0</td>\n      <td>0</td>\n      <td>26</td>\n      <td>70</td>\n      <td>742</td>\n    </tr>\n    <tr>\n      <th>EnclosedPorch</th>\n      <td>2919</td>\n      <td>NaN</td>\n      <td>NaN</td>\n      <td>NaN</td>\n      <td>23.0983</td>\n      <td>64.2442</td>\n      <td>0</td>\n      <td>0</td>\n      <td>0</td>\n      <td>0</td>\n      <td>1012</td>\n    </tr>\n    <tr>\n      <th>3SsnPorch</th>\n      <td>2919</td>\n      <td>NaN</td>\n      <td>NaN</td>\n      <td>NaN</td>\n      <td>2.60226</td>\n      <td>25.1882</td>\n      <td>0</td>\n      <td>0</td>\n      <td>0</td>\n      <td>0</td>\n      <td>508</td>\n    </tr>\n    <tr>\n      <th>ScreenPorch</th>\n      <td>2919</td>\n      <td>NaN</td>\n      <td>NaN</td>\n      <td>NaN</td>\n      <td>16.0624</td>\n      <td>56.1844</td>\n      <td>0</td>\n      <td>0</td>\n      <td>0</td>\n      <td>0</td>\n      <td>576</td>\n    </tr>\n    <tr>\n      <th>PoolArea</th>\n      <td>2919</td>\n      <td>NaN</td>\n      <td>NaN</td>\n      <td>NaN</td>\n      <td>2.2518</td>\n      <td>35.6639</td>\n      <td>0</td>\n      <td>0</td>\n      <td>0</td>\n      <td>0</td>\n      <td>800</td>\n    </tr>\n    <tr>\n      <th>MiscVal</th>\n      <td>2919</td>\n      <td>NaN</td>\n      <td>NaN</td>\n      <td>NaN</td>\n      <td>50.826</td>\n      <td>567.402</td>\n      <td>0</td>\n      <td>0</td>\n      <td>0</td>\n      <td>0</td>\n      <td>17000</td>\n    </tr>\n    <tr>\n      <th>MoSold</th>\n      <td>2919</td>\n      <td>NaN</td>\n      <td>NaN</td>\n      <td>NaN</td>\n      <td>6.21309</td>\n      <td>2.71476</td>\n      <td>1</td>\n      <td>4</td>\n      <td>6</td>\n      <td>8</td>\n      <td>12</td>\n    </tr>\n    <tr>\n      <th>YrSold</th>\n      <td>2919</td>\n      <td>NaN</td>\n      <td>NaN</td>\n      <td>NaN</td>\n      <td>2007.79</td>\n      <td>1.31496</td>\n      <td>2006</td>\n      <td>2007</td>\n      <td>2008</td>\n      <td>2009</td>\n      <td>2010</td>\n    </tr>\n    <tr>\n      <th>SaleType</th>\n      <td>2919</td>\n      <td>9</td>\n      <td>WD</td>\n      <td>2526</td>\n      <td>NaN</td>\n      <td>NaN</td>\n      <td>NaN</td>\n      <td>NaN</td>\n      <td>NaN</td>\n      <td>NaN</td>\n      <td>NaN</td>\n    </tr>\n    <tr>\n      <th>SaleCondition</th>\n      <td>2919</td>\n      <td>6</td>\n      <td>Normal</td>\n      <td>2402</td>\n      <td>NaN</td>\n      <td>NaN</td>\n      <td>NaN</td>\n      <td>NaN</td>\n      <td>NaN</td>\n      <td>NaN</td>\n      <td>NaN</td>\n    </tr>\n  </tbody>\n</table>\n<p>64 rows × 11 columns</p>\n</div>",
            "text/plain": "              count unique      top  freq       mean       std   min     25%  \\\nId             2919    NaN      NaN   NaN       1460   842.787     1   730.5   \nMSSubClass     2919    NaN      NaN   NaN    57.1377   42.5176    20      20   \nMSZoning       2919      5       RL  2269        NaN       NaN   NaN     NaN   \nLotArea        2919    NaN      NaN   NaN    10168.1      7887  1300    7478   \nStreet         2919      2     Pave  2907        NaN       NaN   NaN     NaN   \nLotShape       2919      4      Reg  1859        NaN       NaN   NaN     NaN   \nLandContour    2919      4      Lvl  2622        NaN       NaN   NaN     NaN   \nUtilities      2919      2   AllPub  2918        NaN       NaN   NaN     NaN   \nLotConfig      2919      5   Inside  2133        NaN       NaN   NaN     NaN   \nLandSlope      2919      3      Gtl  2778        NaN       NaN   NaN     NaN   \nNeighborhood   2919     25    NAmes   443        NaN       NaN   NaN     NaN   \nCondition1     2919      9     Norm  2511        NaN       NaN   NaN     NaN   \nCondition2     2919      8     Norm  2889        NaN       NaN   NaN     NaN   \nBldgType       2919      5     1Fam  2425        NaN       NaN   NaN     NaN   \nHouseStyle     2919      8   1Story  1471        NaN       NaN   NaN     NaN   \nOverallQual    2919    NaN      NaN   NaN    6.08907   1.40995     1       5   \nOverallCond    2919    NaN      NaN   NaN    5.56458   1.11313     1       5   \nYearBuilt      2919    NaN      NaN   NaN    1971.31   30.2914  1872  1953.5   \nYearRemodAdd   2919    NaN      NaN   NaN    1984.26   20.8943  1950    1965   \nRoofStyle      2919      6    Gable  2310        NaN       NaN   NaN     NaN   \nRoofMatl       2919      8  CompShg  2876        NaN       NaN   NaN     NaN   \nExterior1st    2919     15  VinylSd  1026        NaN       NaN   NaN     NaN   \nExterior2nd    2919     16  VinylSd  1015        NaN       NaN   NaN     NaN   \nMasVnrType     2919      4     None  1766        NaN       NaN   NaN     NaN   \nMasVnrArea     2919    NaN      NaN   NaN    101.396   178.855     0       0   \nExterQual      2919      4       TA  1798        NaN       NaN   NaN     NaN   \nExterCond      2919      5       TA  2538        NaN       NaN   NaN     NaN   \nFoundation     2919      6    PConc  1308        NaN       NaN   NaN     NaN   \nBsmtFinSF1     2919    NaN      NaN   NaN    441.398   455.535     0       0   \nBsmtFinSF2     2919    NaN      NaN   NaN    49.5653   169.179     0       0   \n...             ...    ...      ...   ...        ...       ...   ...     ...   \nCentralAir     2919      2        Y  2723        NaN       NaN   NaN     NaN   \nElectrical     2919      5    SBrkr  2672        NaN       NaN   NaN     NaN   \n1stFlrSF       2919    NaN      NaN   NaN    1159.58   392.362   334     876   \n2ndFlrSF       2919    NaN      NaN   NaN    336.484   428.701     0       0   \nLowQualFinSF   2919    NaN      NaN   NaN    4.69442   46.3968     0       0   \nGrLivArea      2919    NaN      NaN   NaN    1500.76   506.051   334    1126   \nBsmtFullBath   2919    NaN      NaN   NaN   0.429599  0.524676     0       0   \nBsmtHalfBath   2919    NaN      NaN   NaN  0.0613224  0.245608     0       0   \nFullBath       2919    NaN      NaN   NaN      1.568  0.552969     0       1   \nHalfBath       2919    NaN      NaN   NaN   0.380267  0.502872     0       0   \nBedroomAbvGr   2919    NaN      NaN   NaN    2.86023  0.822693     0       2   \nKitchenAbvGr   2919    NaN      NaN   NaN    1.04454  0.214462     0       1   \nKitchenQual    2919      4       TA  1493        NaN       NaN   NaN     NaN   \nTotRmsAbvGrd   2919    NaN      NaN   NaN    6.45152   1.56938     2       5   \nFunctional     2919      7      Typ  2719        NaN       NaN   NaN     NaN   \nFireplaces     2919    NaN      NaN   NaN   0.597122  0.646129     0       0   \nGarageCars     2919    NaN      NaN   NaN     1.7667  0.761506     0       1   \nGarageArea     2919    NaN      NaN   NaN    472.877   215.358     0     320   \nPavedDrive     2919      3        Y  2641        NaN       NaN   NaN     NaN   \nWoodDeckSF     2919    NaN      NaN   NaN    93.7098   126.527     0       0   \nOpenPorchSF    2919    NaN      NaN   NaN    47.4868   67.5755     0       0   \nEnclosedPorch  2919    NaN      NaN   NaN    23.0983   64.2442     0       0   \n3SsnPorch      2919    NaN      NaN   NaN    2.60226   25.1882     0       0   \nScreenPorch    2919    NaN      NaN   NaN    16.0624   56.1844     0       0   \nPoolArea       2919    NaN      NaN   NaN     2.2518   35.6639     0       0   \nMiscVal        2919    NaN      NaN   NaN     50.826   567.402     0       0   \nMoSold         2919    NaN      NaN   NaN    6.21309   2.71476     1       4   \nYrSold         2919    NaN      NaN   NaN    2007.79   1.31496  2006    2007   \nSaleType       2919      9       WD  2526        NaN       NaN   NaN     NaN   \nSaleCondition  2919      6   Normal  2402        NaN       NaN   NaN     NaN   \n\n                 50%     75%     max  \nId              1460  2189.5    2919  \nMSSubClass        50      70     190  \nMSZoning         NaN     NaN     NaN  \nLotArea         9453   11570  215245  \nStreet           NaN     NaN     NaN  \nLotShape         NaN     NaN     NaN  \nLandContour      NaN     NaN     NaN  \nUtilities        NaN     NaN     NaN  \nLotConfig        NaN     NaN     NaN  \nLandSlope        NaN     NaN     NaN  \nNeighborhood     NaN     NaN     NaN  \nCondition1       NaN     NaN     NaN  \nCondition2       NaN     NaN     NaN  \nBldgType         NaN     NaN     NaN  \nHouseStyle       NaN     NaN     NaN  \nOverallQual        6       7      10  \nOverallCond        5       6       9  \nYearBuilt       1973    2001    2010  \nYearRemodAdd    1993    2004    2010  \nRoofStyle        NaN     NaN     NaN  \nRoofMatl         NaN     NaN     NaN  \nExterior1st      NaN     NaN     NaN  \nExterior2nd      NaN     NaN     NaN  \nMasVnrType       NaN     NaN     NaN  \nMasVnrArea         0   163.5    1600  \nExterQual        NaN     NaN     NaN  \nExterCond        NaN     NaN     NaN  \nFoundation       NaN     NaN     NaN  \nBsmtFinSF1     368.5     733    5644  \nBsmtFinSF2         0       0    1526  \n...              ...     ...     ...  \nCentralAir       NaN     NaN     NaN  \nElectrical       NaN     NaN     NaN  \n1stFlrSF        1082  1387.5    5095  \n2ndFlrSF           0     704    2065  \nLowQualFinSF       0       0    1064  \nGrLivArea       1444  1743.5    5642  \nBsmtFullBath       0       1       3  \nBsmtHalfBath       0       0       2  \nFullBath           2       2       4  \nHalfBath           0       1       2  \nBedroomAbvGr       3       3       8  \nKitchenAbvGr       1       1       3  \nKitchenQual      NaN     NaN     NaN  \nTotRmsAbvGrd       6       7      15  \nFunctional       NaN     NaN     NaN  \nFireplaces         1       1       4  \nGarageCars         2       2       5  \nGarageArea       480     576    1488  \nPavedDrive       NaN     NaN     NaN  \nWoodDeckSF         0     168    1424  \nOpenPorchSF       26      70     742  \nEnclosedPorch      0       0    1012  \n3SsnPorch          0       0     508  \nScreenPorch        0       0     576  \nPoolArea           0       0     800  \nMiscVal            0       0   17000  \nMoSold             6       8      12  \nYrSold          2008    2009    2010  \nSaleType         NaN     NaN     NaN  \nSaleCondition    NaN     NaN     NaN  \n\n[64 rows x 11 columns]"
          },
          "metadata": {}
        }
      ]
    },
    {
      "metadata": {
        "trusted": true
      },
      "cell_type": "code",
      "source": "data_all['YearRemodAdd'] = data_all['YearRemodAdd'] - data_all['YearBuilt']\n\n# drop - BsmtFinType1,BsmtFinSF1,BsmtFinType2,BsmtFinSF2\n# drop 1stFlrSF, 2ndFlrSF\n# drop BsmtFullBath,BsmtHalfBath,FullBath,HalfBath,Bedroom, GarageCars, \ndata_all['Total_area'] = data_all['1stFlrSF'] + data_all['2ndFlrSF']\ndata_all['Total_baths'] = data_all['BsmtFullBath'] + data_all['BsmtHalfBath']\n\n#drop YrSold\ndata_all['Age_before_sold'] = data_all['YrSold'] - data_all['YearBuilt']\ndata_all['YearBuilt'] = 2019 - data_all['YearBuilt']\n\ndata_all.drop(['BsmtFinSF1','BsmtFinSF2','1stFlrSF', '2ndFlrSF','BsmtFullBath',\\\n               'BsmtHalfBath','FullBath','HalfBath','BedroomAbvGr', 'GarageCars','YrSold'],axis=1,inplace=True)\n\nprint(data_all.shape)\ndata_all.head()",
      "execution_count": 17,
      "outputs": [
        {
          "output_type": "stream",
          "text": "(2919, 56)\n",
          "name": "stdout"
        },
        {
          "output_type": "execute_result",
          "execution_count": 17,
          "data": {
            "text/html": "<div>\n<table border=\"1\" class=\"dataframe\">\n  <thead>\n    <tr style=\"text-align: right;\">\n      <th></th>\n      <th>Id</th>\n      <th>MSSubClass</th>\n      <th>MSZoning</th>\n      <th>LotArea</th>\n      <th>Street</th>\n      <th>LotShape</th>\n      <th>LandContour</th>\n      <th>Utilities</th>\n      <th>LotConfig</th>\n      <th>LandSlope</th>\n      <th>...</th>\n      <th>3SsnPorch</th>\n      <th>ScreenPorch</th>\n      <th>PoolArea</th>\n      <th>MiscVal</th>\n      <th>MoSold</th>\n      <th>SaleType</th>\n      <th>SaleCondition</th>\n      <th>Total_area</th>\n      <th>Total_baths</th>\n      <th>Age_before_sold</th>\n    </tr>\n  </thead>\n  <tbody>\n    <tr>\n      <th>0</th>\n      <td>1</td>\n      <td>60</td>\n      <td>RL</td>\n      <td>8450</td>\n      <td>Pave</td>\n      <td>Reg</td>\n      <td>Lvl</td>\n      <td>AllPub</td>\n      <td>Inside</td>\n      <td>Gtl</td>\n      <td>...</td>\n      <td>0</td>\n      <td>0</td>\n      <td>0</td>\n      <td>0</td>\n      <td>2</td>\n      <td>WD</td>\n      <td>Normal</td>\n      <td>1710</td>\n      <td>1.0</td>\n      <td>5</td>\n    </tr>\n    <tr>\n      <th>1</th>\n      <td>2</td>\n      <td>20</td>\n      <td>RL</td>\n      <td>9600</td>\n      <td>Pave</td>\n      <td>Reg</td>\n      <td>Lvl</td>\n      <td>AllPub</td>\n      <td>FR2</td>\n      <td>Gtl</td>\n      <td>...</td>\n      <td>0</td>\n      <td>0</td>\n      <td>0</td>\n      <td>0</td>\n      <td>5</td>\n      <td>WD</td>\n      <td>Normal</td>\n      <td>1262</td>\n      <td>1.0</td>\n      <td>31</td>\n    </tr>\n    <tr>\n      <th>2</th>\n      <td>3</td>\n      <td>60</td>\n      <td>RL</td>\n      <td>11250</td>\n      <td>Pave</td>\n      <td>IR1</td>\n      <td>Lvl</td>\n      <td>AllPub</td>\n      <td>Inside</td>\n      <td>Gtl</td>\n      <td>...</td>\n      <td>0</td>\n      <td>0</td>\n      <td>0</td>\n      <td>0</td>\n      <td>9</td>\n      <td>WD</td>\n      <td>Normal</td>\n      <td>1786</td>\n      <td>1.0</td>\n      <td>7</td>\n    </tr>\n    <tr>\n      <th>3</th>\n      <td>4</td>\n      <td>70</td>\n      <td>RL</td>\n      <td>9550</td>\n      <td>Pave</td>\n      <td>IR1</td>\n      <td>Lvl</td>\n      <td>AllPub</td>\n      <td>Corner</td>\n      <td>Gtl</td>\n      <td>...</td>\n      <td>0</td>\n      <td>0</td>\n      <td>0</td>\n      <td>0</td>\n      <td>2</td>\n      <td>WD</td>\n      <td>Abnorml</td>\n      <td>1717</td>\n      <td>1.0</td>\n      <td>91</td>\n    </tr>\n    <tr>\n      <th>4</th>\n      <td>5</td>\n      <td>60</td>\n      <td>RL</td>\n      <td>14260</td>\n      <td>Pave</td>\n      <td>IR1</td>\n      <td>Lvl</td>\n      <td>AllPub</td>\n      <td>FR2</td>\n      <td>Gtl</td>\n      <td>...</td>\n      <td>0</td>\n      <td>0</td>\n      <td>0</td>\n      <td>0</td>\n      <td>12</td>\n      <td>WD</td>\n      <td>Normal</td>\n      <td>2198</td>\n      <td>1.0</td>\n      <td>8</td>\n    </tr>\n  </tbody>\n</table>\n<p>5 rows × 56 columns</p>\n</div>",
            "text/plain": "   Id  MSSubClass MSZoning  LotArea Street LotShape LandContour Utilities  \\\n0   1          60       RL     8450   Pave      Reg         Lvl    AllPub   \n1   2          20       RL     9600   Pave      Reg         Lvl    AllPub   \n2   3          60       RL    11250   Pave      IR1         Lvl    AllPub   \n3   4          70       RL     9550   Pave      IR1         Lvl    AllPub   \n4   5          60       RL    14260   Pave      IR1         Lvl    AllPub   \n\n  LotConfig LandSlope       ...       3SsnPorch ScreenPorch PoolArea MiscVal  \\\n0    Inside       Gtl       ...               0           0        0       0   \n1       FR2       Gtl       ...               0           0        0       0   \n2    Inside       Gtl       ...               0           0        0       0   \n3    Corner       Gtl       ...               0           0        0       0   \n4       FR2       Gtl       ...               0           0        0       0   \n\n  MoSold  SaleType  SaleCondition  Total_area  Total_baths Age_before_sold  \n0      2        WD         Normal        1710          1.0               5  \n1      5        WD         Normal        1262          1.0              31  \n2      9        WD         Normal        1786          1.0               7  \n3      2        WD        Abnorml        1717          1.0              91  \n4     12        WD         Normal        2198          1.0               8  \n\n[5 rows x 56 columns]"
          },
          "metadata": {}
        }
      ]
    },
    {
      "metadata": {
        "trusted": true
      },
      "cell_type": "code",
      "source": "import seaborn as sns",
      "execution_count": 18,
      "outputs": []
    },
    {
      "metadata": {
        "trusted": true
      },
      "cell_type": "code",
      "source": "plt.scatter(x=train['MSZoning'], y=train['SalePrice'], c=train['OverallQual'])",
      "execution_count": 19,
      "outputs": [
        {
          "output_type": "execute_result",
          "execution_count": 19,
          "data": {
            "text/plain": "<matplotlib.collections.PathCollection at 0x7f286f9c8940>"
          },
          "metadata": {}
        },
        {
          "output_type": "display_data",
          "data": {
            "image/png": "[encoded data removed]",
            "text/plain": "<matplotlib.figure.Figure at 0x7f286fce5da0>"
          },
          "metadata": {}
        }
      ]
    },
    {
      "metadata": {
        "trusted": true
      },
      "cell_type": "code",
      "source": "train_x = data_all.iloc[0:1460]\ntrain = pd.concat([train_x,data_train_y],axis=1)\ntest = data_all.iloc[1460:]\nprint(train_x.shape)\nprint(data_train_y.shape)\nprint(train.shape)",
      "execution_count": 20,
      "outputs": [
        {
          "output_type": "stream",
          "text": "(1460, 56)\n(1460, 1)\n(1460, 57)\n",
          "name": "stdout"
        }
      ]
    },
    {
      "metadata": {
        "trusted": true
      },
      "cell_type": "code",
      "source": "train.columns",
      "execution_count": 21,
      "outputs": [
        {
          "output_type": "execute_result",
          "execution_count": 21,
          "data": {
            "text/plain": "Index(['Id', 'MSSubClass', 'MSZoning', 'LotArea', 'Street', 'LotShape',\n       'LandContour', 'Utilities', 'LotConfig', 'LandSlope', 'Neighborhood',\n       'Condition1', 'Condition2', 'BldgType', 'HouseStyle', 'OverallQual',\n       'OverallCond', 'YearBuilt', 'YearRemodAdd', 'RoofStyle', 'RoofMatl',\n       'Exterior1st', 'Exterior2nd', 'MasVnrType', 'MasVnrArea', 'ExterQual',\n       'ExterCond', 'Foundation', 'BsmtUnfSF', 'TotalBsmtSF', 'Heating',\n       'HeatingQC', 'CentralAir', 'Electrical', 'LowQualFinSF', 'GrLivArea',\n       'KitchenAbvGr', 'KitchenQual', 'TotRmsAbvGrd', 'Functional',\n       'Fireplaces', 'GarageArea', 'PavedDrive', 'WoodDeckSF', 'OpenPorchSF',\n       'EnclosedPorch', '3SsnPorch', 'ScreenPorch', 'PoolArea', 'MiscVal',\n       'MoSold', 'SaleType', 'SaleCondition', 'Total_area', 'Total_baths',\n       'Age_before_sold', 'SalePrice'],\n      dtype='object')"
          },
          "metadata": {}
        }
      ]
    },
    {
      "metadata": {
        "trusted": true
      },
      "cell_type": "code",
      "source": "corr = train.corr()\n\ncorr_y = corr.loc['SalePrice']\n\ncorr_y[abs(corr_y) >= 0.3].index",
      "execution_count": 22,
      "outputs": [
        {
          "output_type": "execute_result",
          "execution_count": 22,
          "data": {
            "text/plain": "Index(['OverallQual', 'YearBuilt', 'MasVnrArea', 'TotalBsmtSF', 'GrLivArea',\n       'TotRmsAbvGrd', 'Fireplaces', 'GarageArea', 'WoodDeckSF', 'OpenPorchSF',\n       'Total_area', 'Age_before_sold', 'SalePrice'],\n      dtype='object')"
          },
          "metadata": {}
        }
      ]
    },
    {
      "metadata": {},
      "cell_type": "markdown",
      "source": "#### Explore categorical columns too"
    },
    {
      "metadata": {
        "trusted": true
      },
      "cell_type": "code",
      "source": "all_col =data_all.columns\n\nfor col in all_col:\n    if data_all[col].dtype == 'O':\n        data_all[col] = data_all[col].astype('category')\n        \ndata_all['MSSubClass'] = data_all['MSSubClass'].astype('category')\ndata_all['MoSold'] = data_all['MoSold'].astype('category')",
      "execution_count": 23,
      "outputs": []
    },
    {
      "metadata": {
        "trusted": true
      },
      "cell_type": "code",
      "source": "# Drop numberical columns with Correlation < 0.5\n#train.drop(['Id', 'MSSubClass', 'LotArea', 'OverallCond', 'MasVnrArea',\\\n#       'BsmtFinSF1', 'BsmtFinSF2', 'BsmtUnfSF', '2ndFlrSF', 'LowQualFinSF',\\\n#       'BsmtFullBath', 'BsmtHalfBath', 'HalfBath', 'BedroomAbvGr',\\\n#       'KitchenAbvGr', 'Fireplaces', 'WoodDeckSF', 'OpenPorchSF',\\\n#       'EnclosedPorch', '3SsnPorch', 'ScreenPorch', 'PoolArea', 'MiscVal',\\\n#       'MoSold', 'YrSold'],axis=1,inplace=True)\n\n#print('1: ',train.shape)",
      "execution_count": 24,
      "outputs": []
    },
    {
      "metadata": {
        "trusted": true
      },
      "cell_type": "code",
      "source": "# Drop categorical columns who do not look relevent for prediction\n## train.drop(['Neighborhood','Exterior1st','Exterior2nd','LotShape','LandSlope','BldgType','HouseStyle','RoofStyle'],axis=1,inplace=True)\n## train.drop(['RoofMatl','MasVnrType','ExterQual','ExterCond','Foundation','Heating','Electrical','KitchenQual','Functional'],axis=1,inplace=True)",
      "execution_count": 25,
      "outputs": []
    },
    {
      "metadata": {
        "trusted": true
      },
      "cell_type": "code",
      "source": "#train.shape",
      "execution_count": 26,
      "outputs": []
    },
    {
      "metadata": {
        "trusted": true
      },
      "cell_type": "code",
      "source": "#test.drop(['Id', 'MSSubClass', 'LotArea', 'OverallCond', 'MasVnrArea',\\\n#       'BsmtFinSF1', 'BsmtFinSF2', 'BsmtUnfSF', '2ndFlrSF', 'LowQualFinSF',\\\n#       'BsmtFullBath', 'BsmtHalfBath', 'HalfBath', 'BedroomAbvGr',\\\n#       'KitchenAbvGr', 'Fireplaces', 'WoodDeckSF', 'OpenPorchSF',\\\n#       'EnclosedPorch', '3SsnPorch', 'ScreenPorch', 'PoolArea', 'MiscVal',\\\n#       'MoSold', 'YrSold'],axis=1,inplace=True)\n\n#print('1: ',test.shape)",
      "execution_count": 27,
      "outputs": []
    },
    {
      "metadata": {
        "trusted": true
      },
      "cell_type": "code",
      "source": "#test.drop(['Neighborhood','Exterior1st', 'Exterior2nd','LotShape', 'LandSlope', 'BldgType','HouseStyle','RoofStyle','RoofMatl','MasVnrType','ExterQual','ExterCond','Foundation','Heating','Electrical','KitchenQual','Functional'],axis=1,inplace=True)",
      "execution_count": 28,
      "outputs": []
    },
    {
      "metadata": {
        "trusted": true
      },
      "cell_type": "code",
      "source": "#test.shape",
      "execution_count": 29,
      "outputs": []
    },
    {
      "metadata": {
        "trusted": true
      },
      "cell_type": "code",
      "source": "#data_all.drop(['MSSubClass', 'LotArea', 'OverallCond', 'MasVnrArea',\\\n#       'BsmtFinSF1', 'BsmtFinSF2', 'BsmtUnfSF', '2ndFlrSF', 'LowQualFinSF',\\\n#       'BsmtFullBath', 'BsmtHalfBath', 'HalfBath', 'BedroomAbvGr',\\\n#       'KitchenAbvGr', 'Fireplaces', 'WoodDeckSF', 'OpenPorchSF',\\\n#       'EnclosedPorch', '3SsnPorch', 'ScreenPorch', 'PoolArea', 'MiscVal',\\\n#       'MoSold', 'YrSold'],axis=1,inplace=True)\n#data_all.drop(['Neighborhood','Exterior1st','Exterior2nd','LotShape','LandSlope','BldgType','HouseStyle','RoofStyle'],axis=1,inplace=True)\n#data_all.drop(['RoofMatl','MasVnrType','ExterQual','ExterCond','Foundation','Heating','Electrical','KitchenQual','Functional'],axis=1,inplace=True)\n#data_all.shape",
      "execution_count": 30,
      "outputs": []
    },
    {
      "metadata": {
        "trusted": true
      },
      "cell_type": "code",
      "source": "cat_cols = data_all.select_dtypes(include=['category']).columns",
      "execution_count": 31,
      "outputs": []
    },
    {
      "metadata": {
        "trusted": true
      },
      "cell_type": "code",
      "source": "data_all = pd.get_dummies(columns=cat_cols, data=data_all,prefix=cat_cols, prefix_sep=\"_\",drop_first=True)",
      "execution_count": 32,
      "outputs": []
    },
    {
      "metadata": {
        "trusted": true
      },
      "cell_type": "code",
      "source": "data_all.shape",
      "execution_count": 33,
      "outputs": [
        {
          "output_type": "execute_result",
          "execution_count": 33,
          "data": {
            "text/plain": "(2919, 213)"
          },
          "metadata": {}
        }
      ]
    },
    {
      "metadata": {
        "trusted": true
      },
      "cell_type": "code",
      "source": "#data_all.columns",
      "execution_count": 34,
      "outputs": []
    },
    {
      "metadata": {
        "trusted": true
      },
      "cell_type": "code",
      "source": "train_x = data_all.iloc[0:1460]\ntrain = pd.concat([train_x,data_train_y],axis=1)\ntest = data_all.iloc[1460:]",
      "execution_count": 35,
      "outputs": []
    },
    {
      "metadata": {
        "trusted": true
      },
      "cell_type": "code",
      "source": "#data_all.select_dtypes(include=['float64']).columns\ndata_all.dtypes.unique(), data_train_y.dtypes",
      "execution_count": 36,
      "outputs": [
        {
          "output_type": "execute_result",
          "execution_count": 36,
          "data": {
            "text/plain": "(array([dtype('int64'), dtype('float64'), dtype('uint8')], dtype=object),\n SalePrice    int64\n dtype: object)"
          },
          "metadata": {}
        }
      ]
    },
    {
      "metadata": {
        "trusted": true
      },
      "cell_type": "code",
      "source": "train['SalePrice'] = train['SalePrice'].astype('uint8')\n\ncat_cols2 = train.select_dtypes(include=['uint8']).columns\n\ncat_filter = train[cat_cols2]",
      "execution_count": 37,
      "outputs": []
    },
    {
      "metadata": {
        "trusted": true
      },
      "cell_type": "code",
      "source": "corr_2 = cat_filter.corr()\ncorr_2\n\ncorr_2y = corr_2.loc['SalePrice']\n\ncorr_2y[abs(corr_2y) <= 0.05].index",
      "execution_count": 38,
      "outputs": [
        {
          "output_type": "execute_result",
          "execution_count": 38,
          "data": {
            "text/plain": "Index(['MSSubClass_30', 'MSSubClass_40', 'MSSubClass_45', 'MSSubClass_50',\n       'MSSubClass_60', 'MSSubClass_70', 'MSSubClass_75', 'MSSubClass_80',\n       'MSSubClass_85', 'MSSubClass_90',\n       ...\n       'SaleType_ConLI', 'SaleType_ConLw', 'SaleType_New', 'SaleType_Oth',\n       'SaleType_WD', 'SaleCondition_AdjLand', 'SaleCondition_Alloca',\n       'SaleCondition_Family', 'SaleCondition_Normal',\n       'SaleCondition_Partial'],\n      dtype='object', length=180)"
          },
          "metadata": {}
        }
      ]
    },
    {
      "metadata": {
        "trusted": true
      },
      "cell_type": "code",
      "source": "corr_2y[abs(corr_2y) >= 0.05].index",
      "execution_count": 39,
      "outputs": [
        {
          "output_type": "execute_result",
          "execution_count": 39,
          "data": {
            "text/plain": "Index(['LandContour_HLS', 'Neighborhood_NPkVill', 'Neighborhood_Veenker',\n       'Exterior2nd_Brk Cmn', 'Exterior2nd_HdBoard', 'Exterior2nd_Wd Shng',\n       'Heating_Wall', 'SalePrice'],\n      dtype='object')"
          },
          "metadata": {}
        }
      ]
    },
    {
      "metadata": {
        "trusted": true
      },
      "cell_type": "code",
      "source": "remove_col = np.array(corr_2y[abs(corr_2y) <= 0.05].index)",
      "execution_count": 40,
      "outputs": []
    },
    {
      "metadata": {
        "trusted": true
      },
      "cell_type": "code",
      "source": "data_all.drop(remove_col,axis=1,inplace=True)",
      "execution_count": 41,
      "outputs": []
    },
    {
      "metadata": {
        "trusted": true
      },
      "cell_type": "code",
      "source": "train_x = data_all.iloc[0:1460]\ntrain = pd.concat([train_x,data_train_y],axis=1)\ntest = data_all.iloc[1460:]\nprint(train.shape)\nprint(test.shape)",
      "execution_count": 42,
      "outputs": [
        {
          "output_type": "stream",
          "text": "(1460, 34)\n(1459, 33)\n",
          "name": "stdout"
        }
      ]
    },
    {
      "metadata": {
        "trusted": true
      },
      "cell_type": "code",
      "source": "data_all.columns",
      "execution_count": 43,
      "outputs": [
        {
          "output_type": "execute_result",
          "execution_count": 43,
          "data": {
            "text/plain": "Index(['Id', 'LotArea', 'OverallQual', 'OverallCond', 'YearBuilt',\n       'YearRemodAdd', 'MasVnrArea', 'BsmtUnfSF', 'TotalBsmtSF',\n       'LowQualFinSF', 'GrLivArea', 'KitchenAbvGr', 'TotRmsAbvGrd',\n       'Fireplaces', 'GarageArea', 'WoodDeckSF', 'OpenPorchSF',\n       'EnclosedPorch', '3SsnPorch', 'ScreenPorch', 'PoolArea', 'MiscVal',\n       'Total_area', 'Total_baths', 'Age_before_sold', 'MSSubClass_150',\n       'LandContour_HLS', 'Neighborhood_NPkVill', 'Neighborhood_Veenker',\n       'Exterior2nd_Brk Cmn', 'Exterior2nd_HdBoard', 'Exterior2nd_Wd Shng',\n       'Heating_Wall'],\n      dtype='object')"
          },
          "metadata": {}
        }
      ]
    },
    {
      "metadata": {
        "trusted": true
      },
      "cell_type": "code",
      "source": "#data_all['MSSubClass'] = data_all['MSSubClass'].astype('category')\n#data_all['MoSold'] = data_all['MoSold'].astype('category')\n\n#cat_cols = data_all.select_dtypes(include=['category']).columns\n\n#data_all = pd.get_dummies(columns=cat_cols, data=data_all,prefix=cat_cols, prefix_sep=\"_\",drop_first=True)\n\n#train_x = data_all.iloc[0:1460]\n#train = pd.concat([train_x,data_train_y],axis=1)\n#test = data_all.iloc[1460:]",
      "execution_count": 44,
      "outputs": []
    },
    {
      "metadata": {
        "trusted": true
      },
      "cell_type": "code",
      "source": "#train.columns",
      "execution_count": 45,
      "outputs": []
    },
    {
      "metadata": {
        "trusted": true
      },
      "cell_type": "code",
      "source": "#cat_filter = train[['MSSubClass_30', 'MSSubClass_40', 'MSSubClass_45', 'MSSubClass_50',\\\n#                    'MSSubClass_60', 'MSSubClass_70', 'MSSubClass_75', 'MSSubClass_80',\\\n#                    'MSSubClass_85', 'MSSubClass_90', 'MSSubClass_120', 'MSSubClass_150',\\\n#                    'MSSubClass_160', 'MSSubClass_180', 'MSSubClass_190', 'MoSold_2',\\\n#                    'MoSold_3', 'MoSold_4', 'MoSold_5', 'MoSold_6', 'MoSold_7', 'MoSold_8',\\\n#                    'MoSold_9', 'MoSold_10', 'MoSold_11', 'MoSold_12','SalePrice']]\n\n#corr_2 = cat_filter.corr()\n#corr_2\n\n#corr_2y = corr_2.loc['SalePrice']\n\n#corr_2y[abs(corr_2y) <= 0.1].index",
      "execution_count": 46,
      "outputs": []
    },
    {
      "metadata": {
        "trusted": true
      },
      "cell_type": "code",
      "source": "#data_all.drop(['MSSubClass_40', 'MSSubClass_45', 'MSSubClass_70', 'MSSubClass_75',\n#       'MSSubClass_80', 'MSSubClass_85', 'MSSubClass_120', 'MSSubClass_180',\n#       'MSSubClass_190', 'MoSold_2', 'MoSold_3', 'MoSold_4', 'MoSold_5',\n#       'MoSold_6', 'MoSold_7', 'MoSold_8', 'MoSold_9', 'MoSold_10',\n#       'MoSold_11', 'MoSold_12'],axis=1,inplace=True)",
      "execution_count": 47,
      "outputs": []
    },
    {
      "metadata": {
        "trusted": true
      },
      "cell_type": "code",
      "source": "#corr_2y[abs(corr_2y) >= 0.1].index",
      "execution_count": 48,
      "outputs": []
    },
    {
      "metadata": {
        "trusted": true
      },
      "cell_type": "code",
      "source": "train['SalePrice'] = train['SalePrice'].astype('int64')\n\nint_cols = train.select_dtypes(include=['int64']).columns\nint_filter = train[int_cols]",
      "execution_count": 49,
      "outputs": []
    },
    {
      "metadata": {
        "trusted": true
      },
      "cell_type": "code",
      "source": "corr_2 = int_filter.corr()\ncorr_2\n\ncorr_2y = corr_2.loc['SalePrice']\n\ncorr_2y[abs(corr_2y) <= 0.2].index",
      "execution_count": 50,
      "outputs": [
        {
          "output_type": "execute_result",
          "execution_count": 50,
          "data": {
            "text/plain": "Index(['Id', 'OverallCond', 'LowQualFinSF', 'KitchenAbvGr', 'EnclosedPorch',\n       '3SsnPorch', 'ScreenPorch', 'PoolArea', 'MiscVal'],\n      dtype='object')"
          },
          "metadata": {}
        }
      ]
    },
    {
      "metadata": {
        "trusted": true
      },
      "cell_type": "code",
      "source": "corr_2y[abs(corr_2y) >= 0.2].index",
      "execution_count": 51,
      "outputs": [
        {
          "output_type": "execute_result",
          "execution_count": 51,
          "data": {
            "text/plain": "Index(['LotArea', 'OverallQual', 'YearBuilt', 'YearRemodAdd', 'GrLivArea',\n       'TotRmsAbvGrd', 'Fireplaces', 'WoodDeckSF', 'OpenPorchSF', 'Total_area',\n       'Age_before_sold', 'SalePrice'],\n      dtype='object')"
          },
          "metadata": {}
        }
      ]
    },
    {
      "metadata": {
        "trusted": true
      },
      "cell_type": "code",
      "source": "remove_col = ['OverallCond', 'LowQualFinSF', 'KitchenAbvGr', 'EnclosedPorch',\n       '3SsnPorch', 'ScreenPorch', 'PoolArea', 'MiscVal']",
      "execution_count": 52,
      "outputs": []
    },
    {
      "metadata": {
        "trusted": true
      },
      "cell_type": "code",
      "source": "data_all.drop(remove_col,axis=1,inplace=True)",
      "execution_count": 53,
      "outputs": []
    },
    {
      "metadata": {
        "trusted": true
      },
      "cell_type": "code",
      "source": "train_x = data_all.iloc[0:1460]\ntrain = pd.concat([train_x,data_train_y],axis=1)\ntest = data_all.iloc[1460:]\nprint(train.shape)\nprint(test.shape)",
      "execution_count": 54,
      "outputs": [
        {
          "output_type": "stream",
          "text": "(1460, 26)\n(1459, 25)\n",
          "name": "stdout"
        }
      ]
    },
    {
      "metadata": {
        "trusted": true
      },
      "cell_type": "code",
      "source": "",
      "execution_count": null,
      "outputs": []
    },
    {
      "metadata": {
        "trusted": true
      },
      "cell_type": "code",
      "source": "train['SalePrice'] = train['SalePrice'].astype('float64')\n\nfloat_cols = train.select_dtypes(include=['float64']).columns",
      "execution_count": 55,
      "outputs": []
    },
    {
      "metadata": {
        "trusted": true
      },
      "cell_type": "code",
      "source": "float_filter = train[float_cols]",
      "execution_count": 56,
      "outputs": []
    },
    {
      "metadata": {
        "trusted": true
      },
      "cell_type": "code",
      "source": "float_cols.shape",
      "execution_count": 57,
      "outputs": [
        {
          "output_type": "execute_result",
          "execution_count": 57,
          "data": {
            "text/plain": "(6,)"
          },
          "metadata": {}
        }
      ]
    },
    {
      "metadata": {
        "trusted": true
      },
      "cell_type": "code",
      "source": "corr_2 = float_filter.corr()\ncorr_2\n\ncorr_2y = corr_2.loc['SalePrice']\n\ncorr_2y[abs(corr_2y) <= 0.2].index",
      "execution_count": 58,
      "outputs": [
        {
          "output_type": "execute_result",
          "execution_count": 58,
          "data": {
            "text/plain": "Index([], dtype='object')"
          },
          "metadata": {}
        }
      ]
    },
    {
      "metadata": {
        "trusted": true
      },
      "cell_type": "code",
      "source": "corr_2y[abs(corr_2y) >= 0.2].index",
      "execution_count": 59,
      "outputs": [
        {
          "output_type": "execute_result",
          "execution_count": 59,
          "data": {
            "text/plain": "Index(['MasVnrArea', 'BsmtUnfSF', 'TotalBsmtSF', 'GarageArea', 'Total_baths',\n       'SalePrice'],\n      dtype='object')"
          },
          "metadata": {}
        }
      ]
    },
    {
      "metadata": {
        "trusted": true
      },
      "cell_type": "code",
      "source": "remove_col = np.array(corr_2y[abs(corr_2y) <= 0.2].index)",
      "execution_count": 60,
      "outputs": []
    },
    {
      "metadata": {
        "trusted": true
      },
      "cell_type": "code",
      "source": "data_all.drop(remove_col,axis=1,inplace=True)",
      "execution_count": 61,
      "outputs": []
    },
    {
      "metadata": {
        "trusted": true
      },
      "cell_type": "code",
      "source": "train_x = data_all.iloc[0:1460]\ntrain = pd.concat([train_x,data_train_y],axis=1)\ntest = data_all.iloc[1460:]\nprint(train.shape)\nprint(test.shape)",
      "execution_count": 62,
      "outputs": [
        {
          "output_type": "stream",
          "text": "(1460, 26)\n(1459, 25)\n",
          "name": "stdout"
        }
      ]
    },
    {
      "metadata": {
        "trusted": true
      },
      "cell_type": "code",
      "source": "",
      "execution_count": null,
      "outputs": []
    },
    {
      "metadata": {
        "trusted": true
      },
      "cell_type": "code",
      "source": "",
      "execution_count": null,
      "outputs": []
    },
    {
      "metadata": {
        "trusted": true
      },
      "cell_type": "code",
      "source": "train.shape",
      "execution_count": 63,
      "outputs": [
        {
          "output_type": "execute_result",
          "execution_count": 63,
          "data": {
            "text/plain": "(1460, 26)"
          },
          "metadata": {}
        }
      ]
    },
    {
      "metadata": {
        "trusted": true
      },
      "cell_type": "code",
      "source": "train.drop(['Id'],axis=1,inplace=True)\ntest.drop(['Id'],axis=1,inplace=True)",
      "execution_count": 64,
      "outputs": []
    },
    {
      "metadata": {
        "trusted": true
      },
      "cell_type": "code",
      "source": "data_all = pd.concat([train.loc[:,train.columns != 'SalePrice'],test])",
      "execution_count": 65,
      "outputs": []
    },
    {
      "metadata": {
        "trusted": true
      },
      "cell_type": "code",
      "source": "print(data_all.shape)\ndata_all.columns",
      "execution_count": 66,
      "outputs": [
        {
          "output_type": "stream",
          "text": "(2919, 24)\n",
          "name": "stdout"
        },
        {
          "output_type": "execute_result",
          "execution_count": 66,
          "data": {
            "text/plain": "Index(['LotArea', 'OverallQual', 'YearBuilt', 'YearRemodAdd', 'MasVnrArea',\n       'BsmtUnfSF', 'TotalBsmtSF', 'GrLivArea', 'TotRmsAbvGrd', 'Fireplaces',\n       'GarageArea', 'WoodDeckSF', 'OpenPorchSF', 'Total_area', 'Total_baths',\n       'Age_before_sold', 'MSSubClass_150', 'LandContour_HLS',\n       'Neighborhood_NPkVill', 'Neighborhood_Veenker', 'Exterior2nd_Brk Cmn',\n       'Exterior2nd_HdBoard', 'Exterior2nd_Wd Shng', 'Heating_Wall'],\n      dtype='object')"
          },
          "metadata": {}
        }
      ]
    },
    {
      "metadata": {
        "trusted": true
      },
      "cell_type": "code",
      "source": "data_all.head()",
      "execution_count": 67,
      "outputs": [
        {
          "output_type": "execute_result",
          "execution_count": 67,
          "data": {
            "text/html": "<div>\n<table border=\"1\" class=\"dataframe\">\n  <thead>\n    <tr style=\"text-align: right;\">\n      <th></th>\n      <th>LotArea</th>\n      <th>OverallQual</th>\n      <th>YearBuilt</th>\n      <th>YearRemodAdd</th>\n      <th>MasVnrArea</th>\n      <th>BsmtUnfSF</th>\n      <th>TotalBsmtSF</th>\n      <th>GrLivArea</th>\n      <th>TotRmsAbvGrd</th>\n      <th>Fireplaces</th>\n      <th>...</th>\n      <th>Total_baths</th>\n      <th>Age_before_sold</th>\n      <th>MSSubClass_150</th>\n      <th>LandContour_HLS</th>\n      <th>Neighborhood_NPkVill</th>\n      <th>Neighborhood_Veenker</th>\n      <th>Exterior2nd_Brk Cmn</th>\n      <th>Exterior2nd_HdBoard</th>\n      <th>Exterior2nd_Wd Shng</th>\n      <th>Heating_Wall</th>\n    </tr>\n  </thead>\n  <tbody>\n    <tr>\n      <th>0</th>\n      <td>8450</td>\n      <td>7</td>\n      <td>16</td>\n      <td>0</td>\n      <td>196.0</td>\n      <td>150.0</td>\n      <td>856.0</td>\n      <td>1710</td>\n      <td>8</td>\n      <td>0</td>\n      <td>...</td>\n      <td>1.0</td>\n      <td>5</td>\n      <td>0</td>\n      <td>0</td>\n      <td>0</td>\n      <td>0</td>\n      <td>0</td>\n      <td>0</td>\n      <td>0</td>\n      <td>0</td>\n    </tr>\n    <tr>\n      <th>1</th>\n      <td>9600</td>\n      <td>6</td>\n      <td>43</td>\n      <td>0</td>\n      <td>0.0</td>\n      <td>284.0</td>\n      <td>1262.0</td>\n      <td>1262</td>\n      <td>6</td>\n      <td>1</td>\n      <td>...</td>\n      <td>1.0</td>\n      <td>31</td>\n      <td>0</td>\n      <td>0</td>\n      <td>0</td>\n      <td>1</td>\n      <td>0</td>\n      <td>0</td>\n      <td>0</td>\n      <td>0</td>\n    </tr>\n    <tr>\n      <th>2</th>\n      <td>11250</td>\n      <td>7</td>\n      <td>18</td>\n      <td>1</td>\n      <td>162.0</td>\n      <td>434.0</td>\n      <td>920.0</td>\n      <td>1786</td>\n      <td>6</td>\n      <td>1</td>\n      <td>...</td>\n      <td>1.0</td>\n      <td>7</td>\n      <td>0</td>\n      <td>0</td>\n      <td>0</td>\n      <td>0</td>\n      <td>0</td>\n      <td>0</td>\n      <td>0</td>\n      <td>0</td>\n    </tr>\n    <tr>\n      <th>3</th>\n      <td>9550</td>\n      <td>7</td>\n      <td>104</td>\n      <td>55</td>\n      <td>0.0</td>\n      <td>540.0</td>\n      <td>756.0</td>\n      <td>1717</td>\n      <td>7</td>\n      <td>1</td>\n      <td>...</td>\n      <td>1.0</td>\n      <td>91</td>\n      <td>0</td>\n      <td>0</td>\n      <td>0</td>\n      <td>0</td>\n      <td>0</td>\n      <td>0</td>\n      <td>1</td>\n      <td>0</td>\n    </tr>\n    <tr>\n      <th>4</th>\n      <td>14260</td>\n      <td>8</td>\n      <td>19</td>\n      <td>0</td>\n      <td>350.0</td>\n      <td>490.0</td>\n      <td>1145.0</td>\n      <td>2198</td>\n      <td>9</td>\n      <td>1</td>\n      <td>...</td>\n      <td>1.0</td>\n      <td>8</td>\n      <td>0</td>\n      <td>0</td>\n      <td>0</td>\n      <td>0</td>\n      <td>0</td>\n      <td>0</td>\n      <td>0</td>\n      <td>0</td>\n    </tr>\n  </tbody>\n</table>\n<p>5 rows × 24 columns</p>\n</div>",
            "text/plain": "   LotArea  OverallQual  YearBuilt  YearRemodAdd  MasVnrArea  BsmtUnfSF  \\\n0     8450            7         16             0       196.0      150.0   \n1     9600            6         43             0         0.0      284.0   \n2    11250            7         18             1       162.0      434.0   \n3     9550            7        104            55         0.0      540.0   \n4    14260            8         19             0       350.0      490.0   \n\n   TotalBsmtSF  GrLivArea  TotRmsAbvGrd  Fireplaces      ...       \\\n0        856.0       1710             8           0      ...        \n1       1262.0       1262             6           1      ...        \n2        920.0       1786             6           1      ...        \n3        756.0       1717             7           1      ...        \n4       1145.0       2198             9           1      ...        \n\n   Total_baths  Age_before_sold  MSSubClass_150  LandContour_HLS  \\\n0          1.0                5               0                0   \n1          1.0               31               0                0   \n2          1.0                7               0                0   \n3          1.0               91               0                0   \n4          1.0                8               0                0   \n\n   Neighborhood_NPkVill  Neighborhood_Veenker  Exterior2nd_Brk Cmn  \\\n0                     0                     0                    0   \n1                     0                     1                    0   \n2                     0                     0                    0   \n3                     0                     0                    0   \n4                     0                     0                    0   \n\n   Exterior2nd_HdBoard  Exterior2nd_Wd Shng  Heating_Wall  \n0                    0                    0             0  \n1                    0                    0             0  \n2                    0                    0             0  \n3                    0                    1             0  \n4                    0                    0             0  \n\n[5 rows x 24 columns]"
          },
          "metadata": {}
        }
      ]
    },
    {
      "metadata": {
        "trusted": true
      },
      "cell_type": "code",
      "source": "#train['YearRemodAdd'] = 2019 + train['YearRemodAdd']\n#test['YearRemodAdd'] = 2019 + test['YearRemodAdd']\n#train.head()",
      "execution_count": 68,
      "outputs": []
    },
    {
      "metadata": {
        "trusted": true
      },
      "cell_type": "code",
      "source": "#data_all['YearRemodAdd'] = 2019 + data_all['YearRemodAdd']",
      "execution_count": 69,
      "outputs": []
    },
    {
      "metadata": {
        "trusted": true
      },
      "cell_type": "code",
      "source": "#remove two outliers\ntrain.loc[train['GrLivArea'] > 4500].index\n\ntrain.drop(train.loc[train['GrLivArea'] > 4500].index, inplace=True)\n\ntrain.reset_index(drop=True, inplace=True)",
      "execution_count": 70,
      "outputs": []
    },
    {
      "metadata": {
        "trusted": true
      },
      "cell_type": "code",
      "source": "scalar_train = StandardScaler(copy=False)",
      "execution_count": 71,
      "outputs": []
    },
    {
      "metadata": {
        "trusted": true
      },
      "cell_type": "code",
      "source": "#scalar_test = StandardScaler(copy=False)",
      "execution_count": 72,
      "outputs": []
    },
    {
      "metadata": {
        "trusted": true
      },
      "cell_type": "code",
      "source": "test.shape\n#scalar.fit(data_all)",
      "execution_count": 73,
      "outputs": [
        {
          "output_type": "execute_result",
          "execution_count": 73,
          "data": {
            "text/plain": "(1459, 24)"
          },
          "metadata": {}
        }
      ]
    },
    {
      "metadata": {
        "trusted": true
      },
      "cell_type": "code",
      "source": "data_all.values.shape",
      "execution_count": 74,
      "outputs": [
        {
          "output_type": "execute_result",
          "execution_count": 74,
          "data": {
            "text/plain": "(2919, 24)"
          },
          "metadata": {}
        }
      ]
    },
    {
      "metadata": {
        "trusted": true
      },
      "cell_type": "code",
      "source": "train_x = train.loc[:,train.columns != 'SalePrice']\n#test = data_all.iloc[1458:]\ntrain_y = train['SalePrice']",
      "execution_count": 75,
      "outputs": []
    },
    {
      "metadata": {
        "trusted": true
      },
      "cell_type": "code",
      "source": "train_cols = pd.concat([train_x,train_y],axis=1).columns\ntrain_cols",
      "execution_count": 76,
      "outputs": [
        {
          "output_type": "execute_result",
          "execution_count": 76,
          "data": {
            "text/plain": "Index(['LotArea', 'OverallQual', 'YearBuilt', 'YearRemodAdd', 'MasVnrArea',\n       'BsmtUnfSF', 'TotalBsmtSF', 'GrLivArea', 'TotRmsAbvGrd', 'Fireplaces',\n       'GarageArea', 'WoodDeckSF', 'OpenPorchSF', 'Total_area', 'Total_baths',\n       'Age_before_sold', 'MSSubClass_150', 'LandContour_HLS',\n       'Neighborhood_NPkVill', 'Neighborhood_Veenker', 'Exterior2nd_Brk Cmn',\n       'Exterior2nd_HdBoard', 'Exterior2nd_Wd Shng', 'Heating_Wall',\n       'SalePrice'],\n      dtype='object')"
          },
          "metadata": {}
        }
      ]
    },
    {
      "metadata": {
        "trusted": true
      },
      "cell_type": "code",
      "source": "num_col = ['LotArea','OverallQual','YearBuilt','YearRemodAdd','MasVnrArea','BsmtUnfSF','TotalBsmtSF','GrLivArea','TotRmsAbvGrd',\\\n           'GarageArea','WoodDeckSF','OpenPorchSF','Total_area','Total_baths','Age_before_sold']\nother_col = ['MSSubClass_150', 'LandContour_HLS','Neighborhood_NPkVill', 'Neighborhood_Veenker', 'Exterior2nd_Brk Cmn',\\\n             'Exterior2nd_HdBoard', 'Exterior2nd_Wd Shng', 'Heating_Wall','SalePrice']",
      "execution_count": 77,
      "outputs": []
    },
    {
      "metadata": {
        "trusted": true
      },
      "cell_type": "code",
      "source": "train.info()",
      "execution_count": 78,
      "outputs": [
        {
          "output_type": "stream",
          "text": "<class 'pandas.core.frame.DataFrame'>\nRangeIndex: 1458 entries, 0 to 1457\nData columns (total 25 columns):\nLotArea                 1458 non-null int64\nOverallQual             1458 non-null int64\nYearBuilt               1458 non-null int64\nYearRemodAdd            1458 non-null int64\nMasVnrArea              1458 non-null float64\nBsmtUnfSF               1458 non-null float64\nTotalBsmtSF             1458 non-null float64\nGrLivArea               1458 non-null int64\nTotRmsAbvGrd            1458 non-null int64\nFireplaces              1458 non-null int64\nGarageArea              1458 non-null float64\nWoodDeckSF              1458 non-null int64\nOpenPorchSF             1458 non-null int64\nTotal_area              1458 non-null int64\nTotal_baths             1458 non-null float64\nAge_before_sold         1458 non-null int64\nMSSubClass_150          1458 non-null uint8\nLandContour_HLS         1458 non-null uint8\nNeighborhood_NPkVill    1458 non-null uint8\nNeighborhood_Veenker    1458 non-null uint8\nExterior2nd_Brk Cmn     1458 non-null uint8\nExterior2nd_HdBoard     1458 non-null uint8\nExterior2nd_Wd Shng     1458 non-null uint8\nHeating_Wall            1458 non-null uint8\nSalePrice               1458 non-null int64\ndtypes: float64(5), int64(12), uint8(8)\nmemory usage: 205.1 KB\n",
          "name": "stdout"
        }
      ]
    },
    {
      "metadata": {
        "trusted": true
      },
      "cell_type": "code",
      "source": "train_x1 = pd.DataFrame(data = scalar_train.fit_transform(train[num_col].values), columns=num_col)\ntrain_x2 = train[other_col]\ntrain = pd.concat([train_x1,train_x2], axis=1)\n#scalar_train.fit_transform(train_x.values,train_y.values)\n#cols = data_all.columns\n#data_all_new = pd.DataFrame(data=scalar.fit_transform(data_all.values),columns=all_cols)",
      "execution_count": 79,
      "outputs": []
    },
    {
      "metadata": {
        "trusted": true
      },
      "cell_type": "code",
      "source": "train.shape",
      "execution_count": 80,
      "outputs": [
        {
          "output_type": "execute_result",
          "execution_count": 80,
          "data": {
            "text/plain": "(1458, 24)"
          },
          "metadata": {}
        }
      ]
    },
    {
      "metadata": {
        "trusted": true
      },
      "cell_type": "code",
      "source": "train.columns",
      "execution_count": 81,
      "outputs": [
        {
          "output_type": "execute_result",
          "execution_count": 81,
          "data": {
            "text/plain": "Index(['LotArea', 'OverallQual', 'YearBuilt', 'YearRemodAdd', 'MasVnrArea',\n       'BsmtUnfSF', 'TotalBsmtSF', 'GrLivArea', 'TotRmsAbvGrd', 'GarageArea',\n       'WoodDeckSF', 'OpenPorchSF', 'Total_area', 'Total_baths',\n       'Age_before_sold', 'MSSubClass_150', 'LandContour_HLS',\n       'Neighborhood_NPkVill', 'Neighborhood_Veenker', 'Exterior2nd_Brk Cmn',\n       'Exterior2nd_HdBoard', 'Exterior2nd_Wd Shng', 'Heating_Wall',\n       'SalePrice'],\n      dtype='object')"
          },
          "metadata": {}
        }
      ]
    },
    {
      "metadata": {
        "trusted": true
      },
      "cell_type": "code",
      "source": "print(train.shape)\ntrain.head()",
      "execution_count": 82,
      "outputs": [
        {
          "output_type": "stream",
          "text": "(1458, 24)\n",
          "name": "stdout"
        },
        {
          "output_type": "execute_result",
          "execution_count": 82,
          "data": {
            "text/html": "<div>\n<table border=\"1\" class=\"dataframe\">\n  <thead>\n    <tr style=\"text-align: right;\">\n      <th></th>\n      <th>LotArea</th>\n      <th>OverallQual</th>\n      <th>YearBuilt</th>\n      <th>YearRemodAdd</th>\n      <th>MasVnrArea</th>\n      <th>BsmtUnfSF</th>\n      <th>TotalBsmtSF</th>\n      <th>GrLivArea</th>\n      <th>TotRmsAbvGrd</th>\n      <th>GarageArea</th>\n      <th>...</th>\n      <th>Age_before_sold</th>\n      <th>MSSubClass_150</th>\n      <th>LandContour_HLS</th>\n      <th>Neighborhood_NPkVill</th>\n      <th>Neighborhood_Veenker</th>\n      <th>Exterior2nd_Brk Cmn</th>\n      <th>Exterior2nd_HdBoard</th>\n      <th>Exterior2nd_Wd Shng</th>\n      <th>Heating_Wall</th>\n      <th>SalePrice</th>\n    </tr>\n  </thead>\n  <tbody>\n    <tr>\n      <th>0</th>\n      <td>-0.203934</td>\n      <td>0.658506</td>\n      <td>-1.052959</td>\n      <td>-0.556205</td>\n      <td>0.523937</td>\n      <td>-0.943795</td>\n      <td>-0.473766</td>\n      <td>0.393013</td>\n      <td>0.921812</td>\n      <td>0.357973</td>\n      <td>...</td>\n      <td>-1.045249</td>\n      <td>0</td>\n      <td>0</td>\n      <td>0</td>\n      <td>0</td>\n      <td>0</td>\n      <td>0</td>\n      <td>0</td>\n      <td>0</td>\n      <td>208500</td>\n    </tr>\n    <tr>\n      <th>1</th>\n      <td>-0.087252</td>\n      <td>-0.068293</td>\n      <td>-0.158428</td>\n      <td>-0.556205</td>\n      <td>-0.570739</td>\n      <td>-0.640584</td>\n      <td>0.504925</td>\n      <td>-0.489391</td>\n      <td>-0.316329</td>\n      <td>-0.056795</td>\n      <td>...</td>\n      <td>-0.185182</td>\n      <td>0</td>\n      <td>0</td>\n      <td>0</td>\n      <td>1</td>\n      <td>0</td>\n      <td>0</td>\n      <td>0</td>\n      <td>0</td>\n      <td>181500</td>\n    </tr>\n    <tr>\n      <th>2</th>\n      <td>0.080162</td>\n      <td>0.658506</td>\n      <td>-0.986698</td>\n      <td>-0.515355</td>\n      <td>0.334044</td>\n      <td>-0.301168</td>\n      <td>-0.319490</td>\n      <td>0.542706</td>\n      <td>-0.316329</td>\n      <td>0.640770</td>\n      <td>...</td>\n      <td>-0.979090</td>\n      <td>0</td>\n      <td>0</td>\n      <td>0</td>\n      <td>0</td>\n      <td>0</td>\n      <td>0</td>\n      <td>0</td>\n      <td>0</td>\n      <td>223500</td>\n    </tr>\n    <tr>\n      <th>3</th>\n      <td>-0.092325</td>\n      <td>0.658506</td>\n      <td>1.862551</td>\n      <td>1.690524</td>\n      <td>-0.570739</td>\n      <td>-0.061314</td>\n      <td>-0.714823</td>\n      <td>0.406800</td>\n      <td>0.302742</td>\n      <td>0.801022</td>\n      <td>...</td>\n      <td>1.799589</td>\n      <td>0</td>\n      <td>0</td>\n      <td>0</td>\n      <td>0</td>\n      <td>0</td>\n      <td>0</td>\n      <td>1</td>\n      <td>0</td>\n      <td>140000</td>\n    </tr>\n    <tr>\n      <th>4</th>\n      <td>0.385566</td>\n      <td>1.385305</td>\n      <td>-0.953567</td>\n      <td>-0.556205</td>\n      <td>1.384039</td>\n      <td>-0.174452</td>\n      <td>0.222888</td>\n      <td>1.354202</td>\n      <td>1.540882</td>\n      <td>1.715398</td>\n      <td>...</td>\n      <td>-0.946011</td>\n      <td>0</td>\n      <td>0</td>\n      <td>0</td>\n      <td>0</td>\n      <td>0</td>\n      <td>0</td>\n      <td>0</td>\n      <td>0</td>\n      <td>250000</td>\n    </tr>\n  </tbody>\n</table>\n<p>5 rows × 24 columns</p>\n</div>",
            "text/plain": "    LotArea  OverallQual  YearBuilt  YearRemodAdd  MasVnrArea  BsmtUnfSF  \\\n0 -0.203934     0.658506  -1.052959     -0.556205    0.523937  -0.943795   \n1 -0.087252    -0.068293  -0.158428     -0.556205   -0.570739  -0.640584   \n2  0.080162     0.658506  -0.986698     -0.515355    0.334044  -0.301168   \n3 -0.092325     0.658506   1.862551      1.690524   -0.570739  -0.061314   \n4  0.385566     1.385305  -0.953567     -0.556205    1.384039  -0.174452   \n\n   TotalBsmtSF  GrLivArea  TotRmsAbvGrd  GarageArea    ...      \\\n0    -0.473766   0.393013      0.921812    0.357973    ...       \n1     0.504925  -0.489391     -0.316329   -0.056795    ...       \n2    -0.319490   0.542706     -0.316329    0.640770    ...       \n3    -0.714823   0.406800      0.302742    0.801022    ...       \n4     0.222888   1.354202      1.540882    1.715398    ...       \n\n   Age_before_sold  MSSubClass_150  LandContour_HLS  Neighborhood_NPkVill  \\\n0        -1.045249               0                0                     0   \n1        -0.185182               0                0                     0   \n2        -0.979090               0                0                     0   \n3         1.799589               0                0                     0   \n4        -0.946011               0                0                     0   \n\n   Neighborhood_Veenker  Exterior2nd_Brk Cmn  Exterior2nd_HdBoard  \\\n0                     0                    0                    0   \n1                     1                    0                    0   \n2                     0                    0                    0   \n3                     0                    0                    0   \n4                     0                    0                    0   \n\n   Exterior2nd_Wd Shng  Heating_Wall  SalePrice  \n0                    0             0     208500  \n1                    0             0     181500  \n2                    0             0     223500  \n3                    1             0     140000  \n4                    0             0     250000  \n\n[5 rows x 24 columns]"
          },
          "metadata": {}
        }
      ]
    },
    {
      "metadata": {
        "trusted": true
      },
      "cell_type": "code",
      "source": "test_x1 = pd.DataFrame(data = scalar_train.fit_transform(test[num_col].values), columns=num_col)\ntest_x2 = test[['MSSubClass_150', 'LandContour_HLS','Neighborhood_NPkVill', 'Neighborhood_Veenker', 'Exterior2nd_Brk Cmn',\\\n                'Exterior2nd_HdBoard', 'Exterior2nd_Wd Shng', 'Heating_Wall']]\ntest = pd.concat([test_x1,test_x2], axis=1)\ntest.head()\n#test = pd.DataFrame(data = scalar_test.fit_transform(test.values), columns=test.columns)",
      "execution_count": 83,
      "outputs": [
        {
          "output_type": "execute_result",
          "execution_count": 83,
          "data": {
            "text/html": "<div>\n<table border=\"1\" class=\"dataframe\">\n  <thead>\n    <tr style=\"text-align: right;\">\n      <th></th>\n      <th>LotArea</th>\n      <th>OverallQual</th>\n      <th>YearBuilt</th>\n      <th>YearRemodAdd</th>\n      <th>MasVnrArea</th>\n      <th>BsmtUnfSF</th>\n      <th>TotalBsmtSF</th>\n      <th>GrLivArea</th>\n      <th>TotRmsAbvGrd</th>\n      <th>GarageArea</th>\n      <th>...</th>\n      <th>Total_baths</th>\n      <th>Age_before_sold</th>\n      <th>MSSubClass_150</th>\n      <th>LandContour_HLS</th>\n      <th>Neighborhood_NPkVill</th>\n      <th>Neighborhood_Veenker</th>\n      <th>Exterior2nd_Brk Cmn</th>\n      <th>Exterior2nd_HdBoard</th>\n      <th>Exterior2nd_Wd Shng</th>\n      <th>Heating_Wall</th>\n    </tr>\n  </thead>\n  <tbody>\n    <tr>\n      <th>0</th>\n      <td>0.363929</td>\n      <td>-0.751101</td>\n      <td>0.340945</td>\n      <td>-0.520737</td>\n      <td>-0.563316</td>\n      <td>-0.650473</td>\n      <td>-0.370719</td>\n      <td>-1.215588</td>\n      <td>-0.918335</td>\n      <td>1.185921</td>\n      <td>...</td>\n      <td>-0.903746</td>\n      <td>0.413784</td>\n      <td>0</td>\n      <td>0</td>\n      <td>0</td>\n      <td>0</td>\n      <td>0</td>\n      <td>0</td>\n      <td>0</td>\n      <td>0</td>\n    </tr>\n    <tr>\n      <th>1</th>\n      <td>0.897861</td>\n      <td>-0.054877</td>\n      <td>0.439695</td>\n      <td>-0.520737</td>\n      <td>0.047057</td>\n      <td>-0.339237</td>\n      <td>0.639228</td>\n      <td>-0.323539</td>\n      <td>-0.255371</td>\n      <td>-0.741235</td>\n      <td>...</td>\n      <td>-0.903746</td>\n      <td>0.512398</td>\n      <td>0</td>\n      <td>0</td>\n      <td>0</td>\n      <td>0</td>\n      <td>0</td>\n      <td>0</td>\n      <td>0</td>\n      <td>0</td>\n    </tr>\n    <tr>\n      <th>2</th>\n      <td>0.809646</td>\n      <td>-0.751101</td>\n      <td>-0.844059</td>\n      <td>-0.478418</td>\n      <td>-0.563316</td>\n      <td>-0.954844</td>\n      <td>-0.266787</td>\n      <td>0.294508</td>\n      <td>-0.255371</td>\n      <td>0.042537</td>\n      <td>...</td>\n      <td>-0.903746</td>\n      <td>-0.769577</td>\n      <td>0</td>\n      <td>0</td>\n      <td>0</td>\n      <td>0</td>\n      <td>0</td>\n      <td>0</td>\n      <td>0</td>\n      <td>0</td>\n    </tr>\n    <tr>\n      <th>3</th>\n      <td>0.032064</td>\n      <td>-0.054877</td>\n      <td>-0.876976</td>\n      <td>-0.520737</td>\n      <td>-0.450284</td>\n      <td>-0.526894</td>\n      <td>-0.271306</td>\n      <td>0.243004</td>\n      <td>0.407593</td>\n      <td>-0.012788</td>\n      <td>...</td>\n      <td>-0.903746</td>\n      <td>-0.802448</td>\n      <td>0</td>\n      <td>0</td>\n      <td>0</td>\n      <td>0</td>\n      <td>0</td>\n      <td>0</td>\n      <td>0</td>\n      <td>0</td>\n    </tr>\n    <tr>\n      <th>4</th>\n      <td>-0.971808</td>\n      <td>1.337571</td>\n      <td>-0.679475</td>\n      <td>-0.520737</td>\n      <td>-0.563316</td>\n      <td>1.059039</td>\n      <td>0.528518</td>\n      <td>-0.424487</td>\n      <td>-0.918335</td>\n      <td>0.153187</td>\n      <td>...</td>\n      <td>-0.903746</td>\n      <td>-0.605221</td>\n      <td>0</td>\n      <td>1</td>\n      <td>0</td>\n      <td>0</td>\n      <td>0</td>\n      <td>1</td>\n      <td>0</td>\n      <td>0</td>\n    </tr>\n  </tbody>\n</table>\n<p>5 rows × 23 columns</p>\n</div>",
            "text/plain": "    LotArea  OverallQual  YearBuilt  YearRemodAdd  MasVnrArea  BsmtUnfSF  \\\n0  0.363929    -0.751101   0.340945     -0.520737   -0.563316  -0.650473   \n1  0.897861    -0.054877   0.439695     -0.520737    0.047057  -0.339237   \n2  0.809646    -0.751101  -0.844059     -0.478418   -0.563316  -0.954844   \n3  0.032064    -0.054877  -0.876976     -0.520737   -0.450284  -0.526894   \n4 -0.971808     1.337571  -0.679475     -0.520737   -0.563316   1.059039   \n\n   TotalBsmtSF  GrLivArea  TotRmsAbvGrd  GarageArea      ...       \\\n0    -0.370719  -1.215588     -0.918335    1.185921      ...        \n1     0.639228  -0.323539     -0.255371   -0.741235      ...        \n2    -0.266787   0.294508     -0.255371    0.042537      ...        \n3    -0.271306   0.243004      0.407593   -0.012788      ...        \n4     0.528518  -0.424487     -0.918335    0.153187      ...        \n\n   Total_baths  Age_before_sold  MSSubClass_150  LandContour_HLS  \\\n0    -0.903746         0.413784               0                0   \n1    -0.903746         0.512398               0                0   \n2    -0.903746        -0.769577               0                0   \n3    -0.903746        -0.802448               0                0   \n4    -0.903746        -0.605221               0                1   \n\n   Neighborhood_NPkVill  Neighborhood_Veenker  Exterior2nd_Brk Cmn  \\\n0                     0                     0                    0   \n1                     0                     0                    0   \n2                     0                     0                    0   \n3                     0                     0                    0   \n4                     0                     0                    0   \n\n   Exterior2nd_HdBoard  Exterior2nd_Wd Shng  Heating_Wall  \n0                    0                    0             0  \n1                    0                    0             0  \n2                    0                    0             0  \n3                    0                    0             0  \n4                    1                    0             0  \n\n[5 rows x 23 columns]"
          },
          "metadata": {}
        }
      ]
    },
    {
      "metadata": {
        "trusted": true
      },
      "cell_type": "code",
      "source": "print(train.shape)\nprint(test.shape)",
      "execution_count": 84,
      "outputs": [
        {
          "output_type": "stream",
          "text": "(1458, 24)\n(1459, 23)\n",
          "name": "stdout"
        }
      ]
    },
    {
      "metadata": {},
      "cell_type": "markdown",
      "source": "#### should drop x+y data together (below step seems to be wrong)"
    },
    {
      "metadata": {
        "trusted": true
      },
      "cell_type": "code",
      "source": "x_train, x_test, y_train, y_test = train_test_split(train.loc[:,train.columns != 'SalePrice'], train['SalePrice'], test_size=0.33, random_state=42)",
      "execution_count": 85,
      "outputs": []
    },
    {
      "metadata": {
        "trusted": true
      },
      "cell_type": "code",
      "source": "linr = LinearRegression().fit(x_train, y_train)",
      "execution_count": 86,
      "outputs": []
    },
    {
      "metadata": {
        "trusted": true
      },
      "cell_type": "code",
      "source": "linr.score(x_train, y_train)",
      "execution_count": 87,
      "outputs": [
        {
          "output_type": "execute_result",
          "execution_count": 87,
          "data": {
            "text/plain": "0.8463036067611394"
          },
          "metadata": {}
        }
      ]
    },
    {
      "metadata": {
        "trusted": true
      },
      "cell_type": "code",
      "source": "rcv = RidgeCV(alphas=[0.0001,0.0003,0.0006,0.001,0.003,0.006,0.01,0.03,0.06,0.1,0.3,0.6,1.0,3,6,10.0], cv=5).fit(x_train, y_train)",
      "execution_count": 88,
      "outputs": []
    },
    {
      "metadata": {
        "trusted": true
      },
      "cell_type": "code",
      "source": "rcv.alpha_",
      "execution_count": 89,
      "outputs": [
        {
          "output_type": "execute_result",
          "execution_count": 89,
          "data": {
            "text/plain": "10.0"
          },
          "metadata": {}
        }
      ]
    },
    {
      "metadata": {
        "trusted": true
      },
      "cell_type": "code",
      "source": "rcv.score(x_train,y_train)",
      "execution_count": 90,
      "outputs": [
        {
          "output_type": "execute_result",
          "execution_count": 90,
          "data": {
            "text/plain": "0.8453127570400729"
          },
          "metadata": {}
        }
      ]
    },
    {
      "metadata": {
        "trusted": true
      },
      "cell_type": "code",
      "source": "yt_pred = rcv.predict(x_test)\nyt_pred_lm = linr.predict(x_test)",
      "execution_count": 91,
      "outputs": []
    },
    {
      "metadata": {
        "trusted": true
      },
      "cell_type": "code",
      "source": "print(sqrt(mean_squared_error(y_test, yt_pred)))\nprint(sqrt(mean_squared_error(y_test, yt_pred_lm)))",
      "execution_count": 92,
      "outputs": [
        {
          "output_type": "stream",
          "text": "30035.109941400773\n30328.596394783308\n",
          "name": "stdout"
        }
      ]
    },
    {
      "metadata": {
        "trusted": true
      },
      "cell_type": "code",
      "source": "y_pred = linr.predict(test)",
      "execution_count": 93,
      "outputs": []
    },
    {
      "metadata": {
        "trusted": true
      },
      "cell_type": "code",
      "source": "y_df = pd.DataFrame(data = y_pred,columns=['SalePrice'])\nsubm = pd.concat([data_test['Id'],y_df], axis=1)\n#subm.to_csv(\"linear_regression2.csv\", index=False,sep=',',encoding='utf-8')",
      "execution_count": 94,
      "outputs": []
    },
    {
      "metadata": {
        "trusted": true,
        "scrolled": true
      },
      "cell_type": "code",
      "source": "enetcv = ElasticNetCV(l1_ratio=1, eps=0.0001, n_alphas=1000, cv=5).fit(x_train, y_train)\nenetcv.score(x_train,y_train)",
      "execution_count": 95,
      "outputs": [
        {
          "output_type": "execute_result",
          "execution_count": 95,
          "data": {
            "text/plain": "0.8458826952872542"
          },
          "metadata": {}
        }
      ]
    },
    {
      "metadata": {
        "trusted": true
      },
      "cell_type": "code",
      "source": "from sklearn.svm import SVR",
      "execution_count": 96,
      "outputs": []
    },
    {
      "metadata": {
        "trusted": true
      },
      "cell_type": "code",
      "source": "sv = SVR(kernel='poly',degree=5, C=0.1).fit(x_train, y_train)\nsv.score(x_train,y_train)",
      "execution_count": 97,
      "outputs": [
        {
          "output_type": "execute_result",
          "execution_count": 97,
          "data": {
            "text/plain": "-0.03776521504086494"
          },
          "metadata": {}
        }
      ]
    },
    {
      "metadata": {
        "trusted": true
      },
      "cell_type": "code",
      "source": "from sklearn.tree import DecisionTreeRegressor\nfrom sklearn.model_selection import cross_val_score",
      "execution_count": 98,
      "outputs": []
    },
    {
      "metadata": {
        "trusted": true
      },
      "cell_type": "code",
      "source": "DTR = DecisionTreeRegressor(max_depth=9,random_state=42, max_leaf_nodes=60).fit(x_train,y_train)\nDTR.score(x_train, y_train)",
      "execution_count": 99,
      "outputs": [
        {
          "output_type": "execute_result",
          "execution_count": 99,
          "data": {
            "text/plain": "0.9286266874287489"
          },
          "metadata": {}
        }
      ]
    },
    {
      "metadata": {
        "trusted": true
      },
      "cell_type": "code",
      "source": "yt_dt = DTR.predict(x_test)\nprint(sqrt(mean_squared_error(y_test, yt_dt)))",
      "execution_count": 100,
      "outputs": [
        {
          "output_type": "stream",
          "text": "35245.67605706973\n",
          "name": "stdout"
        }
      ]
    },
    {
      "metadata": {
        "trusted": true
      },
      "cell_type": "code",
      "source": "from sklearn.ensemble import RandomForestRegressor",
      "execution_count": 101,
      "outputs": [
        {
          "output_type": "stream",
          "text": "/home/nbuser/anaconda3_420/lib/python3.5/site-packages/sklearn/ensemble/weight_boosting.py:29: DeprecationWarning: numpy.core.umath_tests is an internal NumPy module and should not be imported. It will be removed in a future NumPy release.\n  from numpy.core.umath_tests import inner1d\n",
          "name": "stderr"
        }
      ]
    },
    {
      "metadata": {
        "trusted": true
      },
      "cell_type": "code",
      "source": "RF = RandomForestRegressor().fit(x_train,y_train)\nRF.score(x_train, y_train)",
      "execution_count": 102,
      "outputs": [
        {
          "output_type": "execute_result",
          "execution_count": 102,
          "data": {
            "text/plain": "0.9712172516711459"
          },
          "metadata": {}
        }
      ]
    },
    {
      "metadata": {
        "trusted": true
      },
      "cell_type": "code",
      "source": "yt_rf = RF.predict(x_test)\nprint(sqrt(mean_squared_error(y_test, yt_rf)))\nprint(\"R2 Score: \", r2_score(y_test, yt_rf))",
      "execution_count": 103,
      "outputs": [
        {
          "output_type": "stream",
          "text": "27378.092417805226\nR2 Score:  0.8758207416098939\n",
          "name": "stdout"
        }
      ]
    },
    {
      "metadata": {
        "trusted": true
      },
      "cell_type": "code",
      "source": "y_pred = RF.predict(test)\ny_df = pd.DataFrame(data = y_pred,columns=['SalePrice'])\nsubm = pd.concat([data_test['Id'],y_df], axis=1)\n#subm.to_csv(\"random_forest.csv\", index=False,sep=',',encoding='utf-8')",
      "execution_count": 104,
      "outputs": []
    },
    {
      "metadata": {
        "trusted": true
      },
      "cell_type": "code",
      "source": "RF.fit(train.loc[:,train.columns != 'SalePrice'], train['SalePrice'])\nprint(\"Train Score :\", RF.score(train.loc[:,train.columns != 'SalePrice'], train['SalePrice']))\n\ny_pred = RF.predict(test)\n\ny_df = pd.DataFrame(data = y_pred,columns=['SalePrice'])\nsubm = pd.concat([data_test['Id'],y_df], axis=1)\n#subm.to_csv(\"RF_all.csv\", index=False,sep=',',encoding='utf-8')",
      "execution_count": 105,
      "outputs": [
        {
          "output_type": "stream",
          "text": "Train Score : 0.9752345207614072\n",
          "name": "stdout"
        }
      ]
    },
    {
      "metadata": {
        "trusted": true
      },
      "cell_type": "code",
      "source": "from sklearn.neural_network import MLPRegressor",
      "execution_count": 106,
      "outputs": []
    },
    {
      "metadata": {
        "trusted": true
      },
      "cell_type": "code",
      "source": "mlp = MLPRegressor(activation='relu', alpha=0.025,batch_size=128, hidden_layer_sizes=(18,8), learning_rate_init=0.0001, max_iter=80,\\\n                   momentum=0.9, random_state=42, solver='lbfgs')\n\nmlp.fit(x_train,y_train)\nmlp.score(x_train,y_train)",
      "execution_count": 107,
      "outputs": [
        {
          "output_type": "execute_result",
          "execution_count": 107,
          "data": {
            "text/plain": "0.9296394236077752"
          },
          "metadata": {}
        }
      ]
    },
    {
      "metadata": {
        "trusted": true
      },
      "cell_type": "code",
      "source": "yt_mlp = mlp.predict(x_test)\nprint(sqrt(mean_squared_error(y_test, yt_mlp)))\nprint(\"R2 Score: \", r2_score(y_test, yt_mlp))",
      "execution_count": 108,
      "outputs": [
        {
          "output_type": "stream",
          "text": "23473.350078064246\nR2 Score:  0.9087163823606472\n",
          "name": "stdout"
        }
      ]
    },
    {
      "metadata": {
        "trusted": true
      },
      "cell_type": "code",
      "source": "y_pred = mlp.predict(test)\n\ny_df = pd.DataFrame(data = y_pred,columns=['SalePrice'])\nsubm = pd.concat([data_test['Id'],y_df], axis=1)\n#subm.to_csv(\"mlp.csv\", index=False,sep=',',encoding='utf-8')",
      "execution_count": 109,
      "outputs": []
    },
    {
      "metadata": {
        "trusted": true
      },
      "cell_type": "code",
      "source": "mlp.fit(train.loc[:,train.columns != 'SalePrice'], train['SalePrice'])\nprint(\"Train Score :\", mlp.score(train.loc[:,train.columns != 'SalePrice'], train['SalePrice']))\n\ny_pred = mlp.predict(test)\n\ny_df = pd.DataFrame(data = y_pred,columns=['SalePrice'])\nsubm = pd.concat([data_test['Id'],y_df], axis=1)\n#subm.to_csv(\"mlp_all.csv\", index=False,sep=',',encoding='utf-8')",
      "execution_count": 110,
      "outputs": [
        {
          "output_type": "stream",
          "text": "Train Score : 0.9293143197868464\n",
          "name": "stdout"
        }
      ]
    },
    {
      "metadata": {
        "trusted": true
      },
      "cell_type": "code",
      "source": "from sklearn.ensemble import GradientBoostingRegressor",
      "execution_count": 111,
      "outputs": []
    },
    {
      "metadata": {
        "trusted": true
      },
      "cell_type": "code",
      "source": "gbr = GradientBoostingRegressor(loss='ls', learning_rate=0.025,n_estimators=300,criterion='friedman_mse',max_depth=4,\\\n                               random_state=42,max_features=18,alpha=0.9,max_leaf_nodes=25)\n\ngbr.fit(x_train,y_train)\nprint(\"Train Score :\", gbr.score(x_train,y_train))\n\nyt_gbr = gbr.predict(x_test)\nprint(\"Test RMSE\", sqrt(mean_squared_error(y_test, yt_gbr)))\nprint(\"R2 Score: \", r2_score(y_test, yt_gbr))",
      "execution_count": 112,
      "outputs": [
        {
          "output_type": "stream",
          "text": "Train Score : 0.9855219728639117\nTest RMSE 23388.584746907778\nR2 Score:  0.9093744661156673\n",
          "name": "stdout"
        }
      ]
    },
    {
      "metadata": {
        "trusted": true
      },
      "cell_type": "code",
      "source": "y_pred = gbr.predict(test)\n\ny_df = pd.DataFrame(data = y_pred,columns=['SalePrice'])\nsubm = pd.concat([data_test['Id'],y_df], axis=1)\n#subm.to_csv(\"gbr.csv\", index=False,sep=',',encoding='utf-8')",
      "execution_count": 113,
      "outputs": []
    },
    {
      "metadata": {
        "trusted": true
      },
      "cell_type": "code",
      "source": "gbr.fit(train.loc[:,train.columns != 'SalePrice'], train['SalePrice'])\nprint(\"Train Score :\", gbr.score(train.loc[:,train.columns != 'SalePrice'], train['SalePrice']))\n\ny_pred = gbr.predict(test)\n\ny_df = pd.DataFrame(data = y_pred,columns=['SalePrice'])\nsubm = pd.concat([data_test['Id'],y_df], axis=1)\n#subm.to_csv(\"gbr_all.csv\", index=False,sep=',',encoding='utf-8')",
      "execution_count": 114,
      "outputs": [
        {
          "output_type": "stream",
          "text": "Train Score : 0.9784388532485732\n",
          "name": "stdout"
        }
      ]
    },
    {
      "metadata": {
        "trusted": true
      },
      "cell_type": "code",
      "source": "from sklearn.ensemble import AdaBoostRegressor",
      "execution_count": 115,
      "outputs": []
    },
    {
      "metadata": {
        "trusted": true
      },
      "cell_type": "code",
      "source": "abr = AdaBoostRegressor(n_estimators=300, learning_rate=1, loss='square', random_state=42)\n\nabr.fit(x_train,y_train)\nprint(\"Train Score :\", abr.score(x_train,y_train))\n\nyt_abr = abr.predict(x_test)\nprint(\"Test RMSE\", sqrt(mean_squared_error(y_test, yt_abr)))\nprint(\"R2 Score: \", r2_score(y_test, yt_abr))",
      "execution_count": 116,
      "outputs": [
        {
          "output_type": "stream",
          "text": "Train Score : 0.8756920521817877\nTest RMSE 31028.691077612693\nR2 Score:  0.8404967257127395\n",
          "name": "stdout"
        }
      ]
    },
    {
      "metadata": {
        "trusted": true
      },
      "cell_type": "code",
      "source": "from sklearn.ensemble import ExtraTreesRegressor",
      "execution_count": 117,
      "outputs": []
    },
    {
      "metadata": {
        "trusted": true
      },
      "cell_type": "code",
      "source": "etr = ExtraTreesRegressor(n_estimators=200, criterion='mse', max_depth=15, min_samples_split=5, min_samples_leaf=1,\\\n                          min_weight_fraction_leaf=0.0, max_features='auto', max_leaf_nodes=None, min_impurity_decrease=0.0,\\\n                          min_impurity_split=None, bootstrap=False, oob_score=False, random_state=42)\n\netr.fit(x_train,y_train)\nprint(\"Train Score :\", etr.score(x_train,y_train))\n\nyt_etr = etr.predict(x_test)\nprint(\"Test RMSE\", sqrt(mean_squared_error(y_test, yt_etr)))\nprint(\"R2 Score: \", r2_score(y_test, yt_etr))",
      "execution_count": 118,
      "outputs": [
        {
          "output_type": "stream",
          "text": "Train Score : 0.993785821232834\nTest RMSE 23918.046900865687\nR2 Score:  0.9052249291297035\n",
          "name": "stdout"
        }
      ]
    },
    {
      "metadata": {
        "trusted": true
      },
      "cell_type": "code",
      "source": "y_pred = etr.predict(test)\n\ny_df = pd.DataFrame(data = y_pred,columns=['SalePrice'])\nsubm = pd.concat([data_test['Id'],y_df], axis=1)\n#subm.to_csv(\"etr.csv\", index=False,sep=',',encoding='utf-8')",
      "execution_count": 119,
      "outputs": []
    },
    {
      "metadata": {
        "trusted": true
      },
      "cell_type": "markdown",
      "source": "# Next Steps\n\n* ### Do Stacking (mix of models)\n* ### Build best model on whole data set and then run on test data set\n* ### Use K-Fold\n* ### Draw histogram of errors (low variance)"
    },
    {
      "metadata": {
        "trusted": true
      },
      "cell_type": "code",
      "source": "",
      "execution_count": null,
      "outputs": []
    }
  ],
  "metadata": {
    "kernelspec": {
      "name": "python3",
      "display_name": "Python 3",
      "language": "python"
    },
    "language_info": {
      "mimetype": "text/x-python",
      "nbconvert_exporter": "python",
      "name": "python",
      "pygments_lexer": "ipython3",
      "version": "3.5.4",
      "file_extension": ".py",
      "codemirror_mode": {
        "version": 3,
        "name": "ipython"
      }
    }
  },
  "nbformat": 4,
  "nbformat_minor": 2
}